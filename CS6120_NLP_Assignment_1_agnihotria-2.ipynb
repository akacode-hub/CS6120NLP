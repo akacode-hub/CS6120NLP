{
  "cells": [
    {
      "cell_type": "markdown",
      "id": "bc97d6da",
      "metadata": {
        "id": "bc97d6da"
      },
      "source": [
        "## CS 6120: Natural Language Processing - Prof. Ahmad Uzair\n",
        "\n",
        "### Assignment 1: Naive Bayes\n",
        "### Total Points: 100 points\n",
        "\n",
        "You will be dealing with movie review data that includes both positive and negative reviews in this assignment. You will use Sentiment Analysis to assess if a given review is positive or negative using the provided dataset.\n",
        "\n",
        "Therefore, we will make use of Naive Bayes algorithm to perform sentiment analysis on the movie review dataset.\n",
        "\n",
        "## Importing the Libraries"
      ]
    },
    {
      "cell_type": "code",
      "execution_count": 3,
      "id": "a03450ac",
      "metadata": {
        "id": "a03450ac"
      },
      "outputs": [],
      "source": [
        "import numpy as np\n",
        "import math\n",
        "import pandas as pd\n",
        "import re\n",
        "import string\n",
        "import nltk\n",
        "import json\n",
        "from nltk.corpus import stopwords\n",
        "from nltk.stem import PorterStemmer\n",
        "from nltk.tokenize import word_tokenize\n",
        "import matplotlib.pyplot as plt\n",
        "from sklearn.datasets import make_classification\n",
        "from sklearn.metrics import confusion_matrix, ConfusionMatrixDisplay\n",
        "from sklearn.model_selection import train_test_split\n",
        "from sklearn.svm import SVC\n",
        "import warnings\n",
        "import seaborn as sns\n",
        "import matplotlib.pyplot as plt\n",
        "warnings.filterwarnings(\"ignore\")"
      ]
    },
    {
      "cell_type": "markdown",
      "id": "fc584cc2",
      "metadata": {
        "id": "fc584cc2"
      },
      "source": [
        "## Reading the data\n",
        "\n",
        "When reading the data, ensure that the '.csv' file is in the same location where your jupyter notebook is used. This way the files are organized and easy to read using the pandas library. "
      ]
    },
    {
      "cell_type": "code",
      "execution_count": 4,
      "id": "3c9ffbf5",
      "metadata": {
        "id": "3c9ffbf5"
      },
      "outputs": [],
      "source": [
        "## Reading the data and removing columns that are not important. \n",
        "#y_hats = []\n",
        "df = pd.read_csv(\"movie_reviews.csv\", sep = ',', encoding = 'latin-1', usecols = lambda col: col not in [\"Unnamed: 2\", \"Unnamed: 3\", \"Unnamed: 4\"])"
      ]
    },
    {
      "cell_type": "code",
      "execution_count": 5,
      "id": "f7fa8ac0",
      "metadata": {
        "colab": {
          "base_uri": "https://localhost:8080/",
          "height": 206
        },
        "id": "f7fa8ac0",
        "outputId": "69edaf28-1e2e-4ec7-9530-b30a2853ab9e"
      },
      "outputs": [
        {
          "data": {
            "text/html": [
              "<div>\n",
              "<style scoped>\n",
              "    .dataframe tbody tr th:only-of-type {\n",
              "        vertical-align: middle;\n",
              "    }\n",
              "\n",
              "    .dataframe tbody tr th {\n",
              "        vertical-align: top;\n",
              "    }\n",
              "\n",
              "    .dataframe thead th {\n",
              "        text-align: right;\n",
              "    }\n",
              "</style>\n",
              "<table border=\"1\" class=\"dataframe\">\n",
              "  <thead>\n",
              "    <tr style=\"text-align: right;\">\n",
              "      <th></th>\n",
              "      <th>review</th>\n",
              "      <th>sentiment</th>\n",
              "    </tr>\n",
              "  </thead>\n",
              "  <tbody>\n",
              "    <tr>\n",
              "      <th>0</th>\n",
              "      <td>One of the other reviewers has mentioned that ...</td>\n",
              "      <td>positive</td>\n",
              "    </tr>\n",
              "    <tr>\n",
              "      <th>1</th>\n",
              "      <td>A wonderful little production. &lt;br /&gt;&lt;br /&gt;The...</td>\n",
              "      <td>positive</td>\n",
              "    </tr>\n",
              "    <tr>\n",
              "      <th>2</th>\n",
              "      <td>I thought this was a wonderful way to spend ti...</td>\n",
              "      <td>positive</td>\n",
              "    </tr>\n",
              "    <tr>\n",
              "      <th>3</th>\n",
              "      <td>Petter Mattei's \"Love in the Time of Money\" is...</td>\n",
              "      <td>positive</td>\n",
              "    </tr>\n",
              "    <tr>\n",
              "      <th>4</th>\n",
              "      <td>Probably my all-time favorite movie, a story o...</td>\n",
              "      <td>positive</td>\n",
              "    </tr>\n",
              "  </tbody>\n",
              "</table>\n",
              "</div>"
            ],
            "text/plain": [
              "                                              review sentiment\n",
              "0  One of the other reviewers has mentioned that ...  positive\n",
              "1  A wonderful little production. <br /><br />The...  positive\n",
              "2  I thought this was a wonderful way to spend ti...  positive\n",
              "3  Petter Mattei's \"Love in the Time of Money\" is...  positive\n",
              "4  Probably my all-time favorite movie, a story o...  positive"
            ]
          },
          "execution_count": 5,
          "metadata": {},
          "output_type": "execute_result"
        }
      ],
      "source": [
        "# print head of data frame with help of head function\n",
        "df.head() "
      ]
    },
    {
      "cell_type": "markdown",
      "id": "1749da04",
      "metadata": {
        "id": "1749da04"
      },
      "source": [
        "## Count plot of the output categories: positive or negative\n",
        "\n",
        "Feel free to take a look at the output and whether the classes are balanced or imbalanced. "
      ]
    },
    {
      "cell_type": "code",
      "execution_count": 6,
      "id": "c152e8a4",
      "metadata": {
        "colab": {
          "base_uri": "https://localhost:8080/",
          "height": 515
        },
        "id": "c152e8a4",
        "outputId": "a2ba0476-3238-4511-fcf0-780508493f48"
      },
      "outputs": [
        {
          "data": {
            "image/png": "[encoded data removed]",
            "text/plain": [
              "<Figure size 576x432 with 1 Axes>"
            ]
          },
          "metadata": {
            "needs_background": "light"
          },
          "output_type": "display_data"
        }
      ],
      "source": [
        "plt.figure(figsize = [8, 6])\n",
        "sns.countplot(x=\"sentiment\", data = df)\n",
        "plt.title(\"Positive Vs. Negative reviews count\", fontsize = 15)\n",
        "plt.show()\n"
      ]
    },
    {
      "cell_type": "markdown",
      "id": "9b8549f2",
      "metadata": {
        "id": "9b8549f2"
      },
      "source": [
        "## Upsampling the minority class: (5 points)\n",
        "\n",
        "It is known that Naive bayes is not robust to class imbalance. It could be seen above that the data is little imbalanced. Therefore, class balancing can be done before giving it to the Naive Bayes model for prediction. \n",
        "\n",
        "Feel free to use 'resample' library from sklearn. "
      ]
    },
    {
      "cell_type": "code",
      "execution_count": 7,
      "id": "yHJTAqrW7XMN",
      "metadata": {
        "id": "yHJTAqrW7XMN"
      },
      "outputs": [],
      "source": [
        "## hint: use resample from sklearn.utils\n",
        "from sklearn.utils import resample\n",
        "\n",
        "df_majority = df[df['sentiment']==\"positive\"]\n",
        "df_minority = df[df['sentiment']==\"negative\"]\n",
        "\n",
        "negative_upsample = resample(df_minority, replace = True, \n",
        "                        n_samples = df_majority.shape[0],\n",
        "                        random_state = 101)\n",
        "\n",
        "df_upsampled = pd.concat([negative_upsample, df_majority])  # concat two data frames i,e majority class data set and upsampled minority class data set\n",
        "df_upsampled = df_upsampled.sample(frac = 1)"
      ]
    },
    {
      "cell_type": "code",
      "execution_count": 8,
      "id": "6a9329bb",
      "metadata": {
        "id": "6a9329bb"
      },
      "outputs": [
        {
          "data": {
            "text/plain": [
              "(12474, 2)"
            ]
          },
          "execution_count": 8,
          "metadata": {},
          "output_type": "execute_result"
        }
      ],
      "source": [
        "## Just to ensure that upsampling was done successfully, take a look at the shape of the data in \n",
        "## this cell. \n",
        "\n",
        "# print the shape of data set with the help of shape function having \"negative\" as class label\n",
        "df_upsampled[df_upsampled[\"sentiment\"]==\"negative\"].shape"
      ]
    },
    {
      "cell_type": "markdown",
      "id": "6f8bf6e7",
      "metadata": {
        "id": "6f8bf6e7"
      },
      "source": [
        "### Expected Output : \n",
        "(12474, 2)"
      ]
    },
    {
      "cell_type": "code",
      "execution_count": 9,
      "id": "bdea8155",
      "metadata": {
        "colab": {
          "base_uri": "https://localhost:8080/"
        },
        "id": "bdea8155",
        "outputId": "c665c4b9-826e-4f4e-e30e-06e0935a0622"
      },
      "outputs": [
        {
          "data": {
            "text/plain": [
              "(12474, 2)"
            ]
          },
          "execution_count": 9,
          "metadata": {},
          "output_type": "execute_result"
        }
      ],
      "source": [
        "## Ensure that the same number of data points are present for both 'positive' and 'negative' data\n",
        "\n",
        "# print the shape of data set with the help of shape function having \"positive\" as class label\n",
        "df_upsampled[df_upsampled[\"sentiment\"]==\"positive\"].shape"
      ]
    },
    {
      "cell_type": "markdown",
      "id": "626f01d5",
      "metadata": {
        "id": "626f01d5"
      },
      "source": [
        "### Expected Output : \n",
        "(12474, 2)"
      ]
    },
    {
      "cell_type": "code",
      "execution_count": 10,
      "id": "NoW5z6SzAeP8",
      "metadata": {
        "id": "NoW5z6SzAeP8"
      },
      "outputs": [],
      "source": [
        "## In this cell, we are going to be dividing the data into train and test points\n",
        "## Ensure that you store the upsampled data in a variable called 'df_upsampled' \n",
        "## so that the below operations are performed successfully\n",
        "\n",
        "\n",
        "## Considering 10000 positive and 10000 negative data points\n",
        "negative_data_points_train = df_upsampled[df_upsampled[\"sentiment\"]==\"negative\"].iloc[0:10000]\n",
        "positive_data_points_train = df_upsampled[df_upsampled[\"sentiment\"]==\"positive\"].iloc[0:10000]\n",
        "\n",
        "## Considering the remaining data points for test\n",
        "negative_data_points_test = df_upsampled[df_upsampled[\"sentiment\"]==\"negative\"].iloc[10000:]\n",
        "positive_data_points_test = df_upsampled[df_upsampled[\"sentiment\"]==\"positive\"].iloc[10000:]\n",
        "\n",
        "## Concatenate the training positive and negative reviews\n",
        "x_train = pd.concat([negative_data_points_train['review'], positive_data_points_train['review']])\n",
        "## Concatenating the training positive and negative outputs\n",
        "y_train = pd.concat([negative_data_points_train['sentiment'], positive_data_points_train['sentiment']])\n",
        "\n",
        "## Concatenating the test positive and negative reviews\n",
        "x_test = pd.concat([negative_data_points_test['review'], positive_data_points_test['review']])\n",
        "## Concatenating the test positive and negative outputs\n",
        "y_test = pd.concat([negative_data_points_test['sentiment'], positive_data_points_test['sentiment']])\n"
      ]
    },
    {
      "cell_type": "code",
      "execution_count": 11,
      "id": "6428047d",
      "metadata": {
        "colab": {
          "base_uri": "https://localhost:8080/"
        },
        "id": "6428047d",
        "outputId": "10d10601-0ce0-4688-c4d3-75fa386583fd"
      },
      "outputs": [
        {
          "data": {
            "text/plain": [
              "negative    10000\n",
              "positive    10000\n",
              "Name: sentiment, dtype: int64"
            ]
          },
          "execution_count": 11,
          "metadata": {},
          "output_type": "execute_result"
        }
      ],
      "source": [
        "## Take a look at the total number of classes and their count using '.value_counts()' for y_train and y_test.\n",
        "## Ensure that there are equal number of positive and negative reviews. \n",
        "y_train.value_counts()"
      ]
    },
    {
      "cell_type": "markdown",
      "id": "7dfe6517",
      "metadata": {
        "id": "7dfe6517"
      },
      "source": [
        "### Expected Output:\n",
        "negative    10000<br>\n",
        "positive    10000<br>\n",
        "Name: sentiment, dtype: int64"
      ]
    },
    {
      "cell_type": "code",
      "execution_count": 12,
      "id": "2beae1d6",
      "metadata": {
        "colab": {
          "base_uri": "https://localhost:8080/"
        },
        "id": "2beae1d6",
        "outputId": "6896f930-6a1a-45db-b74c-d080c9aedd0c"
      },
      "outputs": [
        {
          "data": {
            "text/plain": [
              "negative    2474\n",
              "positive    2474\n",
              "Name: sentiment, dtype: int64"
            ]
          },
          "execution_count": 12,
          "metadata": {},
          "output_type": "execute_result"
        }
      ],
      "source": [
        "y_test.value_counts()"
      ]
    },
    {
      "cell_type": "markdown",
      "id": "9163f897",
      "metadata": {
        "id": "9163f897"
      },
      "source": [
        "### Expected Output : \n",
        "negative    2474<br>\n",
        "positive    2474<br>\n",
        "Name: sentiment, dtype: int64"
      ]
    },
    {
      "cell_type": "markdown",
      "id": "6501699b",
      "metadata": {
        "id": "6501699b"
      },
      "source": [
        "## Q1. Pre-process the reviews: (10 points)\n",
        "\n",
        "We know that a review contains links, punctuation, stopwords and many other words that don't give a lot of meaning for the Naive Bayes model for prediction. \n",
        "\n",
        "In the cell below, one must implement text-preprocessing and remove links, punctuations and stopwords. It is also important to lowercase the letters so that 'Admire' and 'admire' are not treated as different words. \n",
        "\n",
        "In addition to this, perform stemming operation so that similar words are reduced. To know more about stemming, feel free to take a look at this link.\n",
        "\n",
        "https://nlp.stanford.edu/IR-book/html/htmledition/stemming-and-lemmatization-1.html"
      ]
    },
    {
      "cell_type": "code",
      "execution_count": 13,
      "id": "CirLN9-ddQ1r",
      "metadata": {
        "id": "CirLN9-ddQ1r"
      },
      "outputs": [],
      "source": [
        "# TASK CELL\n",
        "\n",
        "def clean_review(review):\n",
        "    \n",
        "    '''\n",
        "    Input:\n",
        "        review: a string containing a review.\n",
        "    Output:\n",
        "        review_cleaned: a processed review. \n",
        "    '''\n",
        "    #To remove punctuation\n",
        "    review_processed = \"\"\n",
        "    for word in review:\n",
        "        if word not in string.punctuation:\n",
        "            review_processed += \"\".join(word)\n",
        "     #To make lower case\n",
        "    review_processed = review_processed.lower()\n",
        "     #Tokenization\n",
        "    review_processed = word_tokenize( review_processed)\n",
        "\n",
        "     #Stop word removal\n",
        "    review_clean= []\n",
        "    stopwords = nltk.corpus.stopwords.words('english')\n",
        "    for word in review_processed:\n",
        "        if word not in stopwords:\n",
        "            review_clean.append(word)\n",
        "    \n",
        "    #Stemming\n",
        "    reviews_cleaned= []\n",
        "    porter_stemmer = PorterStemmer()\n",
        "    for word in review_clean:\n",
        "        reviews_cleaned.append(porter_stemmer.stem(word))\n",
        "        \n",
        "    return reviews_cleaned"
      ]
    },
    {
      "cell_type": "markdown",
      "id": "a7632fe5",
      "metadata": {
        "id": "a7632fe5"
      },
      "source": [
        "## Q2. Implement a find_occurrence function (5 points):\n",
        "\n",
        "In this function, we find the total occurrence of a word giving information such as label, word and frequency dictionary.\n",
        "\n",
        "Note that this function is used later in the code when we are going to be predicting the output using Naive Bayes. "
      ]
    },
    {
      "cell_type": "code",
      "execution_count": 14,
      "id": "eb282b81",
      "metadata": {
        "id": "eb282b81"
      },
      "outputs": [],
      "source": [
        "# TASK CELL\n",
        "def find_occurrence(frequency, word, label):\n",
        "    '''\n",
        "    Params:\n",
        "        frequency: a dictionary with the frequency of each pair (or tuple)\n",
        "        word: the word to look up\n",
        "        label: the label corresponding to the word\n",
        "    Return:\n",
        "        n: the number of times the word with its corresponding label appears.\n",
        "    '''\n",
        "  \n",
        "    try:\n",
        "        n = frequency[(word,label)]\n",
        "    except:\n",
        "        n = 0\n",
        "    return n"
      ]
    },
    {
      "cell_type": "markdown",
      "id": "29a2249d",
      "metadata": {
        "id": "29a2249d"
      },
      "source": [
        "### Converting output to numerical format:\n",
        "\n",
        "We have outputs as 'positive' or 'negative'. In the cell below, we convert it to a numerical format. "
      ]
    },
    {
      "cell_type": "code",
      "execution_count": 15,
      "id": "bcdc2b2c",
      "metadata": {
        "id": "bcdc2b2c"
      },
      "outputs": [],
      "source": [
        "## With the use of mapping function, we replace\n",
        "## the label in the form of string to an integer. \n",
        "\n",
        "output_map = {'positive': 0, 'negative': 1}\n",
        "y_train = y_train.map(output_map)\n",
        "y_test = y_test.map(output_map)"
      ]
    },
    {
      "cell_type": "code",
      "execution_count": 16,
      "id": "3dde0bbd",
      "metadata": {
        "colab": {
          "base_uri": "https://localhost:8080/"
        },
        "id": "3dde0bbd",
        "outputId": "223dfbc1-8efe-4183-b6d7-c9cb025cb285"
      },
      "outputs": [
        {
          "data": {
            "text/plain": [
              "1    10000\n",
              "0    10000\n",
              "Name: sentiment, dtype: int64"
            ]
          },
          "execution_count": 16,
          "metadata": {},
          "output_type": "execute_result"
        }
      ],
      "source": [
        "## Ensuring that there are equal number of classes on the training data. \n",
        "y_train.value_counts()"
      ]
    },
    {
      "cell_type": "code",
      "execution_count": 17,
      "id": "f2959b85",
      "metadata": {
        "colab": {
          "base_uri": "https://localhost:8080/",
          "height": 178
        },
        "id": "f2959b85",
        "outputId": "e514214b-cd57-43fc-875d-1821ddab63f8"
      },
      "outputs": [
        {
          "data": {
            "text/plain": [
              "\"Was there a single positive to this film? Critics who knew nothing of video games could spot the gaming errors made. No damage taken with damage clearly visible towards the beginning being a primary example.<br /><br />And I may have missed something, but wasn't Super Mario Bros. 3 suppose to be a game that had never played before? Well if that IS the case, and I did not miss anything... how did Fred Savage's character, and even the girl, know so much about the game already? We're talking things that some people don't know about by their second or third play-through.<br /><br />Beyond the factual and gaming errors there is the general low quality of the film itself. Nothing here is honestly very memorable. The kid wasn't even that good at playing video games in the footage they showed. A lot of kids I knew way back in those days were significantly more experienced. On top of all this the acting and storyline are just mediocre at their strongest points. The characters are bland and completely uninteresting, the 'Wizard' (the youngest child) is a very silent, completely dry child clichÃ© of a little kid who almost never talks because of a trauma. It isn't that this is unrealistic, it's the fact that it had to be thrown into the movie to actually even begin to form a plot that would exceed even 30 minutes.<br /><br />Honestly, the only value that is to be found here is that of a nostalgic nature. If you grew up with this movie you're going to like it whether it was good or not. It was about kids playing video games, and at the time you saw it you likely had an obsession with the NES as well. But unless you loved it as a kid there just isn't anything that's going to keep you interested, and very little that will prevent you from turning it off.<br /><br />No sir, I didn't like it.\""
            ]
          },
          "execution_count": 17,
          "metadata": {},
          "output_type": "execute_result"
        }
      ],
      "source": [
        "## Choosing a random review and taking a look at it.\n",
        "x_train.iloc[0]"
      ]
    },
    {
      "cell_type": "markdown",
      "id": "ed5e43c9",
      "metadata": {
        "id": "ed5e43c9"
      },
      "source": [
        "From the above cell output, it could be seen that there are a lot of words that don't add a lot of meaning to the text. \n",
        "\n",
        "Therefore, those words would be removed. It also reduces the computation time. \n",
        "\n",
        "Therefore, it is a good practice we are following."
      ]
    },
    {
      "cell_type": "code",
      "execution_count": 18,
      "id": "ad3937ea",
      "metadata": {
        "colab": {
          "base_uri": "https://localhost:8080/"
        },
        "id": "ad3937ea",
        "outputId": "68985efe-32cd-4c11-ed5b-2e1e1b297e73"
      },
      "outputs": [
        {
          "name": "stdout",
          "output_type": "stream",
          "text": [
            "['singl', 'posit', 'film', 'critic', 'knew', 'noth', 'video', 'game', 'could', 'spot', 'game', 'error', 'made', 'damag', 'taken', 'damag', 'clearli', 'visibl', 'toward', 'begin', 'primari', 'examplebr', 'br', 'may', 'miss', 'someth', 'wasnt', 'super', 'mario', 'bro', '3', 'suppos', 'game', 'never', 'play', 'well', 'case', 'miss', 'anyth', 'fred', 'savag', 'charact', 'even', 'girl', 'know', 'much', 'game', 'alreadi', 'talk', 'thing', 'peopl', 'dont', 'know', 'second', 'third', 'playthroughbr', 'br', 'beyond', 'factual', 'game', 'error', 'gener', 'low', 'qualiti', 'film', 'noth', 'honestli', 'memor', 'kid', 'wasnt', 'even', 'good', 'play', 'video', 'game', 'footag', 'show', 'lot', 'kid', 'knew', 'way', 'back', 'day', 'significantli', 'experienc', 'top', 'act', 'storylin', 'mediocr', 'strongest', 'point', 'charact', 'bland', 'complet', 'uninterest', 'wizard', 'youngest', 'child', 'silent', 'complet', 'dri', 'child', 'clichã©', 'littl', 'kid', 'almost', 'never', 'talk', 'trauma', 'isnt', 'unrealist', 'fact', 'thrown', 'movi', 'actual', 'even', 'begin', 'form', 'plot', 'would', 'exceed', 'even', '30', 'minutesbr', 'br', 'honestli', 'valu', 'found', 'nostalg', 'natur', 'grew', 'movi', 'your', 'go', 'like', 'whether', 'good', 'kid', 'play', 'video', 'game', 'time', 'saw', 'like', 'obsess', 'ne', 'well', 'unless', 'love', 'kid', 'isnt', 'anyth', 'that', 'go', 'keep', 'interest', 'littl', 'prevent', 'turn', 'offbr', 'br', 'sir', 'didnt', 'like']\n"
          ]
        }
      ],
      "source": [
        "custom_review = x_train.iloc[0]\n",
        "# print cleaned review\n",
        "print(clean_review(custom_review))"
      ]
    },
    {
      "cell_type": "markdown",
      "id": "3e6cc440",
      "metadata": {
        "id": "3e6cc440"
      },
      "source": [
        "We now use this function to pre-process the review and remove words that don't add a lot of meaning in our model. "
      ]
    },
    {
      "cell_type": "markdown",
      "id": "5a762960",
      "metadata": {
        "id": "5a762960"
      },
      "source": [
        "## Q3. Implementing review counter function: (5 points)\n",
        "\n",
        "It is now time to implement the count function for the reviews. \n",
        "\n",
        "In this function, we count the occurrence of words and get the probabilities \n",
        "for the words based on the training data. \n",
        "\n",
        "In other words, we get the probability of occurrence of a word, given that the output is 'positive'.\n",
        "\n",
        "Similarly, we also compute the probability of occurence of a word, given that the output is 'negative'.\n",
        "\n"
      ]
    },
    {
      "cell_type": "code",
      "execution_count": 19,
      "id": "5de61f77",
      "metadata": {
        "id": "5de61f77"
      },
      "outputs": [],
      "source": [
        "# TASK CELL\n",
        "def review_counter(output_occurrence, reviews, sentiment):\n",
        "    '''\n",
        "    Params:\n",
        "        output_occurrence: a dictionary that will be used to map each pair to its frequency\n",
        "        reviews: a list of reviews\n",
        "        positive_or_negative: a list corresponding to the sentiment of each review (either 0 or 1)\n",
        "    Return:\n",
        "        output: a dictionary mapping each pair to its frequency\n",
        "    '''\n",
        "    ## Steps :\n",
        "    # define the key, which is the word and label tuple\n",
        "    # if the key exists in the dictionary, increment the count\n",
        "    # else, if the key is new, add it to the dictionary and set the count to 1\n",
        "    \n",
        "    for label, review in zip(sentiment, reviews):\n",
        "        for word in clean_review(review):\n",
        "            key = (word,label)\n",
        "            if key in output_occurrence.keys():\n",
        "                output_occurrence[key]+=1\n",
        "            else:\n",
        "                output_occurrence.update({key:1})\n",
        "   \n",
        "    return output_occurrence\n",
        "   \n"
      ]
    },
    {
      "cell_type": "markdown",
      "id": "18238223",
      "metadata": {
        "id": "18238223"
      },
      "source": [
        "### Test your function with example reviews:\n",
        "\n",
        "Feel free to run the cell below and understand whether the above function that you have defined is producing the optimum results. "
      ]
    },
    {
      "cell_type": "code",
      "execution_count": 20,
      "id": "07a4c58a",
      "metadata": {
        "colab": {
          "base_uri": "https://localhost:8080/"
        },
        "id": "07a4c58a",
        "outputId": "dd9e148a-34a9-4cfe-9077-c5de33493d7a"
      },
      "outputs": [
        {
          "data": {
            "text/plain": [
              "{('got', 1): 1,\n",
              " ('bore', 1): 2,\n",
              " ('throught', 1): 1,\n",
              " ('moview', 1): 1,\n",
              " ('movi', 0): 2,\n",
              " ('fantast', 0): 1,\n",
              " ('watch', 1): 1,\n",
              " ('complet', 1): 1,\n",
              " ('wast', 1): 1,\n",
              " ('time', 1): 1,\n",
              " ('money', 1): 1,\n",
              " ('enjoy', 0): 1,\n",
              " ('fullest', 0): 1}"
            ]
          },
          "execution_count": 20,
          "metadata": {},
          "output_type": "execute_result"
        }
      ],
      "source": [
        "# Testing your function\n",
        "\n",
        "result = {}\n",
        "reviews = ['got bored throught the moview', 'The movie was fantastic', 'Will not watch it again', 'Was bored, it was a complete waste of time and money', 'Enjoyed the movie to the fullest']\n",
        "ys = [1, 0, 1, 1, 0]\n",
        "review_counter(result,reviews, ys)"
      ]
    },
    {
      "cell_type": "markdown",
      "id": "927f89bb",
      "metadata": {
        "id": "927f89bb"
      },
      "source": [
        "### Expected Output:\n",
        " {('bored', 1): 2, <br>\n",
        " ('complete', 1): 1, <br>\n",
        " ('enjoyed', 0): 1, <br>\n",
        " ('fantastic', 0): 1, <br>\n",
        " ('fullest', 0): 1, <br>\n",
        " ('got', 1): 1, <br>\n",
        " ('money', 1): 1, <br>\n",
        " ('movie', 0): 2, <br>\n",
        " ('moview', 1): 1, <br>\n",
        " ('throught', 1): 1, <br>\n",
        " ('time', 1): 1, <br>\n",
        " ('waste', 1): 1, <br>\n",
        " ('watch', 1): 1}"
      ]
    },
    {
      "cell_type": "code",
      "execution_count": 21,
      "id": "9bc62e13",
      "metadata": {
        "id": "9bc62e13"
      },
      "outputs": [],
      "source": [
        "# Build the freqs dictionary for later uses\n",
        "\n",
        "freqs = review_counter({}, x_train, y_train)"
      ]
    },
    {
      "cell_type": "code",
      "execution_count": 22,
      "id": "0eddf420",
      "metadata": {
        "id": "0eddf420"
      },
      "outputs": [
        {
          "data": {
            "text/plain": [
              "{('singl', 1): 373,\n",
              " ('posit', 1): 389,\n",
              " ('film', 1): 17022,\n",
              " ('critic', 1): 314,\n",
              " ('knew', 1): 306,\n",
              " ('noth', 1): 2322,\n",
              " ('video', 1): 751,\n",
              " ('game', 1): 560,\n",
              " ('could', 1): 3638,\n",
              " ('spot', 1): 201,\n",
              " ('error', 1): 77,\n",
              " ('made', 1): 3338,\n",
              " ('damag', 1): 73,\n",
              " ('taken', 1): 344,\n",
              " ('clearli', 1): 370,\n",
              " ('visibl', 1): 34,\n",
              " ('toward', 1): 353,\n",
              " ('begin', 1): 1109,\n",
              " ('primari', 1): 41,\n",
              " ('examplebr', 1): 13,\n",
              " ('br', 1): 23291,\n",
              " ('may', 1): 1114,\n",
              " ('miss', 1): 870,\n",
              " ('someth', 1): 2242,\n",
              " ('wasnt', 1): 1093,\n",
              " ('super', 1): 159,\n",
              " ('mario', 1): 34,\n",
              " ('bro', 1): 27,\n",
              " ('3', 1): 705,\n",
              " ('suppos', 1): 1075,\n",
              " ('never', 1): 2733,\n",
              " ('play', 1): 2789,\n",
              " ('well', 1): 3076,\n",
              " ('case', 1): 660,\n",
              " ('anyth', 1): 1492,\n",
              " ('fred', 1): 73,\n",
              " ('savag', 1): 54,\n",
              " ('charact', 1): 5609,\n",
              " ('even', 1): 6173,\n",
              " ('girl', 1): 1619,\n",
              " ('know', 1): 3063,\n",
              " ('much', 1): 3881,\n",
              " ('alreadi', 1): 609,\n",
              " ('talk', 1): 902,\n",
              " ('thing', 1): 3705,\n",
              " ('peopl', 1): 3684,\n",
              " ('dont', 1): 4151,\n",
              " ('second', 1): 871,\n",
              " ('third', 1): 258,\n",
              " ('playthroughbr', 1): 2,\n",
              " ('beyond', 1): 456,\n",
              " ('factual', 1): 27,\n",
              " ('gener', 1): 823,\n",
              " ('low', 1): 821,\n",
              " ('qualiti', 1): 586,\n",
              " ('honestli', 1): 273,\n",
              " ('memor', 1): 176,\n",
              " ('kid', 1): 1194,\n",
              " ('good', 1): 5754,\n",
              " ('footag', 1): 318,\n",
              " ('show', 1): 3353,\n",
              " ('lot', 1): 1830,\n",
              " ('way', 1): 3224,\n",
              " ('back', 1): 1842,\n",
              " ('day', 1): 1291,\n",
              " ('significantli', 1): 19,\n",
              " ('experienc', 1): 73,\n",
              " ('top', 1): 508,\n",
              " ('act', 1): 4156,\n",
              " ('storylin', 1): 376,\n",
              " ('mediocr', 1): 273,\n",
              " ('strongest', 1): 15,\n",
              " ('point', 1): 1793,\n",
              " ('bland', 1): 179,\n",
              " ('complet', 1): 1445,\n",
              " ('uninterest', 1): 150,\n",
              " ('wizard', 1): 26,\n",
              " ('youngest', 1): 26,\n",
              " ('child', 1): 430,\n",
              " ('silent', 1): 167,\n",
              " ('dri', 1): 119,\n",
              " ('clichã©', 1): 343,\n",
              " ('littl', 1): 2350,\n",
              " ('almost', 1): 1233,\n",
              " ('trauma', 1): 21,\n",
              " ('isnt', 1): 1523,\n",
              " ('unrealist', 1): 193,\n",
              " ('fact', 1): 1524,\n",
              " ('thrown', 1): 210,\n",
              " ('movi', 1): 22450,\n",
              " ('actual', 1): 2356,\n",
              " ('form', 1): 328,\n",
              " ('plot', 1): 3294,\n",
              " ('would', 1): 5608,\n",
              " ('exceed', 1): 10,\n",
              " ('30', 1): 299,\n",
              " ('minutesbr', 1): 45,\n",
              " ('valu', 1): 481,\n",
              " ('found', 1): 979,\n",
              " ('nostalg', 1): 26,\n",
              " ('natur', 1): 432,\n",
              " ('grew', 1): 74,\n",
              " ('your', 1): 916,\n",
              " ('go', 1): 3879,\n",
              " ('like', 1): 9524,\n",
              " ('whether', 1): 319,\n",
              " ('time', 1): 5737,\n",
              " ('saw', 1): 1119,\n",
              " ('obsess', 1): 145,\n",
              " ('ne', 1): 8,\n",
              " ('unless', 1): 387,\n",
              " ('love', 1): 2154,\n",
              " ('that', 1): 1817,\n",
              " ('keep', 1): 873,\n",
              " ('interest', 1): 1898,\n",
              " ('prevent', 1): 96,\n",
              " ('turn', 1): 1550,\n",
              " ('offbr', 1): 44,\n",
              " ('sir', 1): 35,\n",
              " ('didnt', 1): 2115,\n",
              " ('im', 1): 2258,\n",
              " ('big', 1): 1265,\n",
              " ('fan', 1): 1212,\n",
              " ('horror', 1): 1538,\n",
              " ('flick', 1): 772,\n",
              " ('zombi', 1): 691,\n",
              " ('particular', 1): 257,\n",
              " ('favorit', 1): 236,\n",
              " ('mine', 1): 117,\n",
              " ('said', 1): 1001,\n",
              " ('one', 1): 10343,\n",
              " ('absolut', 1): 899,\n",
              " ('worst', 1): 1911,\n",
              " ('ever', 1): 2473,\n",
              " ('seen', 1): 2553,\n",
              " ('needless', 1): 67,\n",
              " ('say', 1): 3261,\n",
              " ('realli', 1): 4938,\n",
              " ('enjoy', 1): 1124,\n",
              " ('best', 1): 1647,\n",
              " ('bad', 1): 5726,\n",
              " ('ive', 1): 1338,\n",
              " ('long', 1): 1266,\n",
              " ('stori', 1): 4111,\n",
              " ('similar', 1): 299,\n",
              " ('dan', 1): 83,\n",
              " ('obannon', 1): 5,\n",
              " ('return', 1): 398,\n",
              " ('live', 1): 1277,\n",
              " ('dead', 1): 836,\n",
              " ('wherea', 1): 48,\n",
              " ('intent', 1): 294,\n",
              " ('funni', 1): 1698,\n",
              " ('opposit', 1): 110,\n",
              " ('laughabl', 1): 336,\n",
              " ('wit', 1): 227,\n",
              " ('especi', 1): 729,\n",
              " ('main', 1): 1046,\n",
              " ('scientist', 1): 210,\n",
              " ('scene', 1): 4537,\n",
              " ('hyster', 1): 66,\n",
              " ('also', 1): 2908,\n",
              " ('effect', 1): 1530,\n",
              " ('subpar', 1): 75,\n",
              " ('mani', 1): 2293,\n",
              " ('sloppi', 1): 60,\n",
              " ('death', 1): 765,\n",
              " ('often', 1): 482,\n",
              " ('downright', 1): 93,\n",
              " ('stupid', 1): 1275,\n",
              " ('cours', 1): 837,\n",
              " ('make', 1): 6140,\n",
              " ('fun', 1): 792,\n",
              " ('possibl', 1): 838,\n",
              " ('spoiler', 1): 364,\n",
              " ('guy', 1): 2129,\n",
              " ('open', 1): 835,\n",
              " ('refriger', 1): 11,\n",
              " ('door', 1): 226,\n",
              " ('see', 1): 5149,\n",
              " ('sever', 1): 634,\n",
              " ('head', 1): 857,\n",
              " ('eye', 1): 653,\n",
              " ('somehow', 1): 353,\n",
              " ('fli', 1): 279,\n",
              " ('fridg', 1): 7,\n",
              " ('obvious', 1): 578,\n",
              " ('pull', 1): 350,\n",
              " ('ineptli', 1): 11,\n",
              " ('bit', 1): 1131,\n",
              " ('string', 1): 108,\n",
              " ('latch', 1): 9,\n",
              " ('onto', 1): 140,\n",
              " ('neck', 1): 56,\n",
              " ('kill', 1): 1814,\n",
              " ('abil', 1): 183,\n",
              " ('float', 1): 53,\n",
              " ('air', 1): 263,\n",
              " ('defi', 1): 34,\n",
              " ('everi', 1): 1549,\n",
              " ('law', 1): 177,\n",
              " ('physic', 1): 188,\n",
              " ('known', 1): 332,\n",
              " ('man', 1): 1887,\n",
              " ('absurd', 1): 174,\n",
              " ('goofi', 1): 84,\n",
              " ('moment', 1): 937,\n",
              " ('idiot', 1): 348,\n",
              " ('mess', 1): 476,\n",
              " ('cant', 1): 1820,\n",
              " ('believ', 1): 1563,\n",
              " ('gotten', 1): 126,\n",
              " ('high', 1): 730,\n",
              " ('rate', 1): 822,\n",
              " ('favor', 1): 145,\n",
              " ('rent', 1): 667,\n",
              " ('sucker', 1): 54,\n",
              " ('oh', 1): 801,\n",
              " ('thought', 1): 1462,\n",
              " ('action', 1): 1261,\n",
              " ('although', 1): 797,\n",
              " ('jeff', 1): 67,\n",
              " ('speakman', 1): 2,\n",
              " ('star', 1): 1490,\n",
              " ('watchonli', 1): 1,\n",
              " ('two', 1): 2523,\n",
              " ('fight', 1): 806,\n",
              " ('15', 1): 250,\n",
              " ('hour', 1): 961,\n",
              " ('yaka', 1): 1,\n",
              " ('everyth', 1): 946,\n",
              " ('artifici', 1): 42,\n",
              " ('clear', 1): 357,\n",
              " ('want', 1): 2791,\n",
              " ('took', 1): 429,\n",
              " ('9', 1): 138,\n",
              " ('year', 1): 2077,\n",
              " ('think', 1): 3508,\n",
              " ('within', 1): 334,\n",
              " ('someon', 1): 1198,\n",
              " ('saidhey', 1): 6,\n",
              " ('terribl', 1): 1333,\n",
              " ('better', 1): 2550,\n",
              " ('porn', 1): 192,\n",
              " ('tire', 1): 273,\n",
              " ('abus', 1): 148,\n",
              " ('serial', 1): 142,\n",
              " ('killer', 1): 679,\n",
              " ('new', 1): 1338,\n",
              " ('chang', 1): 671,\n",
              " ('florist', 1): 6,\n",
              " ('least', 1): 1562,\n",
              " ('twist', 1): 433,\n",
              " ('everyon', 1): 813,\n",
              " ('camera', 1): 904,\n",
              " ('idea', 1): 1346,\n",
              " ('unorigin', 1): 102,\n",
              " ('director', 1): 2050,\n",
              " ('admir', 1): 122,\n",
              " ('stuck', 1): 159,\n",
              " ('get', 1): 5939,\n",
              " ('tenac', 1): 7,\n",
              " ('spirit', 1): 207,\n",
              " ('kind', 1): 1376,\n",
              " ('drive', 1): 355,\n",
              " ('hope', 1): 961,\n",
              " ('next', 1): 695,\n",
              " ('focu', 1): 180,\n",
              " ('script', 1): 1814,\n",
              " ('fail', 1): 849,\n",
              " ('experi', 1): 521,\n",
              " ('indi', 1): 94,\n",
              " ('writerdirector', 1): 96,\n",
              " ('michigan', 1): 22,\n",
              " ('hatr', 1): 40,\n",
              " ('minut', 1): 2033,\n",
              " ('stick', 1): 301,\n",
              " ('evil', 1): 623,\n",
              " ('simpli', 1): 828,\n",
              " ('give', 1): 2192,\n",
              " ('three', 1): 849,\n",
              " ('fulfil', 1): 44,\n",
              " ('buddi', 1): 164,\n",
              " ('entertain', 1): 947,\n",
              " ('enough', 1): 1527,\n",
              " ('romero', 1): 62,\n",
              " ('fulci', 1): 55,\n",
              " ('laugh', 1): 1309,\n",
              " ('look', 1): 4524,\n",
              " ('amus', 1): 267,\n",
              " ('shake', 1): 111,\n",
              " ('embarrass', 1): 322,\n",
              " ('perfect', 1): 266,\n",
              " ('junior', 1): 44,\n",
              " ('mysteri', 1): 467,\n",
              " ('scienc', 1): 193,\n",
              " ('theater', 1): 399,\n",
              " ('downsid', 1): 6,\n",
              " ('person', 1): 1218,\n",
              " ('shame', 1): 332,\n",
              " ('relat', 1): 222,\n",
              " ('hollywood', 1): 671,\n",
              " ('titl', 1): 740,\n",
              " ('suck', 1): 492,\n",
              " ('genr', 1): 431,\n",
              " ('went', 1): 709,\n",
              " ('determin', 1): 76,\n",
              " ('usual', 1): 704,\n",
              " ('drama', 1): 414,\n",
              " ('wall', 1): 129,\n",
              " ('street', 1): 289,\n",
              " ('glen', 1): 23,\n",
              " ('gari', 1): 84,\n",
              " ('ross', 1): 44,\n",
              " ('boiler', 1): 4,\n",
              " ('room', 1): 382,\n",
              " ('etci', 1): 2,\n",
              " ('edg', 1): 104,\n",
              " ('seat', 1): 112,\n",
              " ('plu', 1): 263,\n",
              " ('pacino', 1): 56,\n",
              " ('fanbr', 1): 5,\n",
              " ('piec', 1): 891,\n",
              " ('garbag', 1): 315,\n",
              " ('quit', 1): 1335,\n",
              " ('five', 1): 385,\n",
              " ('debacl', 1): 21,\n",
              " ('given', 1): 751,\n",
              " ('sunday', 1): 50,\n",
              " ('first', 1): 3225,\n",
              " ('half', 1): 938,\n",
              " ('watch', 1): 5760,\n",
              " ('matthew', 1): 41,\n",
              " ('mcconaughey', 1): 2,\n",
              " ('lift', 1): 90,\n",
              " ('weight', 1): 58,\n",
              " ('ok', 1): 596,\n",
              " ('shape', 1): 63,\n",
              " ('matt', 1): 88,\n",
              " ('need', 1): 1417,\n",
              " ('pump', 1): 34,\n",
              " ('iron', 1): 135,\n",
              " ('shirtlessbr', 1): 2,\n",
              " ('secondli', 1): 61,\n",
              " ('hole', 1): 273,\n",
              " ('introduc', 1): 213,\n",
              " ('phone', 1): 228,\n",
              " ('call', 1): 1262,\n",
              " ('brandon', 1): 14,\n",
              " ('lost', 1): 574,\n",
              " ('dad', 1): 155,\n",
              " ('address', 1): 51,\n",
              " ('mom', 1): 144,\n",
              " ('hang', 1): 200,\n",
              " ('send', 1): 178,\n",
              " ('money', 1): 1201,\n",
              " ('puerto', 1): 43,\n",
              " ('rico', 1): 14,\n",
              " ('million', 1): 262,\n",
              " ('sinc', 1): 1039,\n",
              " ('sport', 1): 106,\n",
              " ('bet', 1): 130,\n",
              " ('illeg', 1): 43,\n",
              " ('ny', 1): 25,\n",
              " ('acknowledg', 1): 26,\n",
              " ('guarante', 1): 60,\n",
              " ('end', 1): 3627,\n",
              " ('poorli', 1): 530,\n",
              " ('written', 1): 539,\n",
              " ('potenti', 1): 349,\n",
              " ('devoid', 1): 63,\n",
              " ('coher', 1): 79,\n",
              " ('learn', 1): 461,\n",
              " ('lesson', 1): 128,\n",
              " ('select', 1): 69,\n",
              " ('appar', 1): 647,\n",
              " ('gosh', 1): 15,\n",
              " ('actor', 1): 2730,\n",
              " ('godfath', 1): 45,\n",
              " ('wast', 1): 1512,\n",
              " ('got', 1): 1562,\n",
              " ('free', 1): 275,\n",
              " ('job', 1): 662,\n",
              " ('along', 1): 670,\n",
              " ('expect', 1): 1259,\n",
              " ('per', 1): 56,\n",
              " ('se', 1): 12,\n",
              " ('pay', 1): 393,\n",
              " ('tale', 1): 254,\n",
              " ('betray', 1): 65,\n",
              " ('lie', 1): 229,\n",
              " ('sex', 1): 775,\n",
              " ('scandal', 1): 19,\n",
              " ('definit', 1): 497,\n",
              " ('blockbust', 1): 91,\n",
              " ('cheap', 1): 536,\n",
              " ('thrill', 1): 132,\n",
              " ('probabl', 1): 1230,\n",
              " ('nutshel', 1): 16,\n",
              " ('either', 1): 853,\n",
              " ('late', 1): 353,\n",
              " ('night', 1): 858,\n",
              " ('local', 1): 424,\n",
              " ('televis', 1): 302,\n",
              " ('station', 1): 138,\n",
              " ('take', 1): 2499,\n",
              " ('afternoon', 1): 50,\n",
              " ('tri', 1): 3017,\n",
              " ('despit', 1): 513,\n",
              " ('line', 1): 1396,\n",
              " ('sub', 1): 69,\n",
              " ('par', 1): 70,\n",
              " ('work', 1): 2403,\n",
              " ('desir', 1): 135,\n",
              " ('pretend', 1): 116,\n",
              " ('pop', 1): 195,\n",
              " ('dvd', 1): 785,\n",
              " ('player', 1): 189,\n",
              " ('done', 1): 1158,\n",
              " ('differ', 1): 883,\n",
              " ('wors', 1): 931,\n",
              " ('averag', 1): 320,\n",
              " ('notic', 1): 327,\n",
              " ('kari', 1): 11,\n",
              " ('wuhrer', 1): 7,\n",
              " ('cast', 1): 1601,\n",
              " ('theori', 1): 106,\n",
              " ('talent', 1): 659,\n",
              " ('actress', 1): 548,\n",
              " ('seem', 1): 3221,\n",
              " ('prove', 1): 358,\n",
              " ('alway', 1): 907,\n",
              " ('sort', 1): 726,\n",
              " ('lowbudget', 1): 171,\n",
              " ('b', 1): 328,\n",
              " ('still', 1): 1847,\n",
              " ('beauti', 1): 716,\n",
              " ('unfortun', 1): 809,\n",
              " ('materi', 1): 321,\n",
              " ('ugli', 1): 232,\n",
              " ('disturb', 1): 214,\n",
              " ('doesnt', 1): 1956,\n",
              " ('georg', 1): 258,\n",
              " ('wendt', 1): 12,\n",
              " ('type', 1): 512,\n",
              " ('jar', 1): 48,\n",
              " ('recognit', 1): 28,\n",
              " ('role', 1): 1255,\n",
              " ('anoth', 1): 1670,\n",
              " ('note', 1): 333,\n",
              " ('ms', 1): 121,\n",
              " ('breast', 1): 110,\n",
              " ('shrunk', 1): 5,\n",
              " ('markedli', 1): 6,\n",
              " ('last', 1): 1180,\n",
              " ('perhap', 1): 638,\n",
              " ('reduct', 1): 2,\n",
              " ('surgeri', 1): 43,\n",
              " ('remov', 1): 114,\n",
              " ('implant', 1): 7,\n",
              " ('great', 1): 2151,\n",
              " ('might', 1): 1314,\n",
              " ('consid', 1): 581,\n",
              " ('artwork', 1): 17,\n",
              " ('abl', 1): 451,\n",
              " ('express', 1): 222,\n",
              " ('imagin', 1): 528,\n",
              " ('order', 1): 472,\n",
              " ('creat', 1): 537,\n",
              " ('fill', 1): 339,\n",
              " ('antagon', 1): 4,\n",
              " ('pain', 1): 528,\n",
              " ('disgust', 1): 224,\n",
              " ('releas', 1): 608,\n",
              " ('repuls', 1): 47,\n",
              " ('illog', 1): 44,\n",
              " ('meaningless', 1): 58,\n",
              " ('sick', 1): 249,\n",
              " ('come', 1): 2480,\n",
              " ('appal', 1): 95,\n",
              " ('imag', 1): 282,\n",
              " ('shown', 1): 348,\n",
              " ('grasp', 1): 40,\n",
              " ('set', 1): 1442,\n",
              " ('mind', 1): 847,\n",
              " ('forget', 1): 303,\n",
              " ('inhuman', 1): 10,\n",
              " ('suffer', 1): 311,\n",
              " ('bill', 1): 233,\n",
              " ('exampl', 1): 667,\n",
              " ('purpos', 1): 304,\n",
              " ('mean', 1): 1266,\n",
              " ('climax', 1): 146,\n",
              " ('resolut', 1): 54,\n",
              " ('admit', 1): 286,\n",
              " ('arent', 1): 471,\n",
              " ('anyway', 1): 507,\n",
              " ('crappi', 1): 182,\n",
              " ('worthless', 1): 62,\n",
              " ('dialogu', 1): 830,\n",
              " ('occur', 1): 141,\n",
              " ('far', 1): 1160,\n",
              " ('ground', 1): 181,\n",
              " ('rule', 1): 151,\n",
              " ('zombiemovi', 1): 5,\n",
              " ('1', 1): 675,\n",
              " ('suicid', 1): 157,\n",
              " ('tactic', 1): 49,\n",
              " ('seldom', 1): 17,\n",
              " ('use', 1): 2019,\n",
              " ('boxer', 1): 11,\n",
              " ('dodg', 1): 15,\n",
              " ('blow', 1): 188,\n",
              " ('smile', 1): 109,\n",
              " ('hit', 1): 503,\n",
              " ('face', 1): 779,\n",
              " ('grab', 1): 86,\n",
              " ('hold', 1): 381,\n",
              " ('arm', 1): 211,\n",
              " ('bite', 1): 77,\n",
              " ('2', 1): 1134,\n",
              " ('speak', 1): 444,\n",
              " ('otherwis', 1): 320,\n",
              " ('meleerang', 1): 1,\n",
              " ('weapon', 1): 135,\n",
              " ('loos', 1): 198,\n",
              " ('mele', 1): 2,\n",
              " ('firearm', 1): 10,\n",
              " ('howev', 1): 1328,\n",
              " ('wrong', 1): 919,\n",
              " ('wrongbr', 1): 40,\n",
              " ('redeem', 1): 297,\n",
              " ('qualitiesbr', 1): 4,\n",
              " ('wish', 1): 458,\n",
              " ('score', 1): 342,\n",
              " ('higher', 1): 109,\n",
              " ('imdbcom', 1): 6,\n",
              " ('cabl', 1): 105,\n",
              " ('shannon', 1): 17,\n",
              " ('wilsey', 1): 2,\n",
              " ('savannah', 1): 10,\n",
              " ('nake', 1): 247,\n",
              " ('thank', 1): 349,\n",
              " ('god', 1): 647,\n",
              " ('sat', 1): 161,\n",
              " ('brainrot', 1): 2,\n",
              " ('drivel', 1): 73,\n",
              " ('cheesi', 1): 344,\n",
              " ('guymor', 1): 2,\n",
              " ('actuallybut', 1): 3,\n",
              " ('rancid', 1): 22,\n",
              " ('truli', 1): 615,\n",
              " ('annoy', 1): 674,\n",
              " ('overact', 1): 94,\n",
              " ('mad', 1): 222,\n",
              " ('writer', 1): 622,\n",
              " ('special', 1): 933,\n",
              " ('virtual', 1): 129,\n",
              " ('total', 1): 965,\n",
              " ('incompet', 1): 79,\n",
              " ('detract', 1): 30,\n",
              " ('gratuit', 1): 93,\n",
              " ('nuditi', 1): 274,\n",
              " ('save', 1): 936,\n",
              " ('grace', 1): 152,\n",
              " ('plastic', 1): 77,\n",
              " ('barbi', 1): 18,\n",
              " ('doll', 1): 87,\n",
              " ('becam', 1): 236,\n",
              " ('queen', 1): 170,\n",
              " ('watchsh', 1): 2,\n",
              " ('dropdead', 1): 8,\n",
              " ('gorgeou', 1): 86,\n",
              " ('burst', 1): 66,\n",
              " ('uncontrol', 1): 16,\n",
              " ('giggl', 1): 61,\n",
              " ('glanc', 1): 29,\n",
              " ('offcamera', 1): 9,\n",
              " ('audienc', 1): 1040,\n",
              " ('though', 1): 1637,\n",
              " ('colleagu', 1): 63,\n",
              " ('spend', 1): 413,\n",
              " ('fair', 1): 209,\n",
              " ('amount', 1): 227,\n",
              " ('pictur', 1): 640,\n",
              " ('hide', 1): 176,\n",
              " ('incred', 1): 412,\n",
              " ('badli', 1): 414,\n",
              " ('check', 1): 372,\n",
              " ('rental', 1): 118,\n",
              " ('shut', 1): 117,\n",
              " ('front', 1): 246,\n",
              " ('told', 1): 342,\n",
              " ('snake', 1): 145,\n",
              " ('train', 1): 322,\n",
              " ('okay', 1): 381,\n",
              " ('mayb', 1): 1135,\n",
              " ('exactli', 1): 376,\n",
              " ('els', 1): 963,\n",
              " ('moviebr', 1): 420,\n",
              " ('ask', 1): 663,\n",
              " ('retrospect', 1): 24,\n",
              " ('mayan', 1): 17,\n",
              " ('curs', 1): 97,\n",
              " ('caus', 1): 362,\n",
              " ('woman', 1): 1064,\n",
              " ('intern', 1): 101,\n",
              " ('birth', 1): 59,\n",
              " ('spit', 1): 59,\n",
              " ('mouth', 1): 202,\n",
              " ('featur', 1): 718,\n",
              " ('strang', 1): 391,\n",
              " ('pedophil', 1): 12,\n",
              " ('version', 1): 760,\n",
              " ('leif', 1): 2,\n",
              " ('garrettbr', 1): 2,\n",
              " ('level', 1): 449,\n",
              " ('promis', 1): 288,\n",
              " ('eaten', 1): 46,\n",
              " ('will', 1): 120,\n",
              " ('sit', 1): 630,\n",
              " ('happen', 1): 1588,\n",
              " ('texa', 1): 93,\n",
              " ('ranger', 1): 87,\n",
              " ('forc', 1): 626,\n",
              " ('nice', 1): 736,\n",
              " ('titti', 1): 6,\n",
              " ('grope', 1): 8,\n",
              " ('cocain', 1): 30,\n",
              " ('hispan', 1): 20,\n",
              " ('shaman', 1): 8,\n",
              " ('occasion', 1): 164,\n",
              " ('stab', 1): 90,\n",
              " ('hell', 1): 567,\n",
              " ('broke', 1): 62,\n",
              " ('start', 1): 1765,\n",
              " ('snakesbr', 1): 5,\n",
              " ('alert', 1): 33,\n",
              " ('overlook', 1): 57,\n",
              " ('sudden', 1): 92,\n",
              " ('25', 1): 74,\n",
              " ('feet', 1): 119,\n",
              " ('tell', 1): 1184,\n",
              " ('ruin', 1): 288,\n",
              " ('part', 1): 1967,\n",
              " ('300', 1): 25,\n",
              " ('proce', 1): 45,\n",
              " ('squeez', 1): 36,\n",
              " ('devour', 1): 20,\n",
              " ('graphic', 1): 157,\n",
              " ('artistri', 1): 9,\n",
              " ('serpentaur', 1): 2,\n",
              " ('old', 1): 1502,\n",
              " ('gi', 1): 25,\n",
              " ('joe', 1): 186,\n",
              " ('cartoon', 1): 256,\n",
              " ('nemesi', 1): 24,\n",
              " ('enforc', 1): 22,\n",
              " ('connect', 1): 292,\n",
              " ('ate', 1): 21,\n",
              " ('pretti', 1): 1632,\n",
              " ('unstopp', 1): 13,\n",
              " ('voodoo', 1): 54,\n",
              " ('rock', 1): 297,\n",
              " ('summon', 1): 17,\n",
              " ('tornado', 1): 13,\n",
              " ('heaven', 1): 126,\n",
              " ('yeah', 1): 230,\n",
              " ('ill', 1): 531,\n",
              " ('thatbr', 1): 122,\n",
              " ('short', 1): 726,\n",
              " ('numb', 1): 33,\n",
              " ('brain', 1): 270,\n",
              " ('hurt', 1): 177,\n",
              " ('matter', 1): 539,\n",
              " ('date', 1): 285,\n",
              " ('camp', 1): 199,\n",
              " ('construct', 1): 104,\n",
              " ('cool', 1): 402,\n",
              " ('bigger', 1): 118,\n",
              " ('infam', 1): 42,\n",
              " ('brethren', 1): 6,\n",
              " ('walk', 1): 614,\n",
              " ('away', 1): 1077,\n",
              " ('box', 1): 318,\n",
              " ('leav', 1): 828,\n",
              " ('quot', 1): 107,\n",
              " ('basic', 1): 712,\n",
              " ('sum', 1): 159,\n",
              " ('upbr', 1): 68,\n",
              " ('silli', 1): 537,\n",
              " ('stop', 1): 654,\n",
              " ('decent', 1): 706,\n",
              " ('tribut', 1): 28,\n",
              " ('optimist', 1): 11,\n",
              " ('heck', 1): 142,\n",
              " ('refer', 1): 306,\n",
              " ('spoof', 1): 148,\n",
              " ('hahafunni', 1): 1,\n",
              " ('id', 1): 596,\n",
              " ('huge', 1): 422,\n",
              " ('trivia', 1): 27,\n",
              " ('element', 1): 381,\n",
              " ('whore', 1): 44,\n",
              " ('complain', 1): 86,\n",
              " ('comment', 1): 636,\n",
              " ('blame', 1): 202,\n",
              " ('dvdcover', 1): 1,\n",
              " ('piano', 1): 49,\n",
              " ('afterwardsbr', 1): 6,\n",
              " ('ed', 1): 160,\n",
              " ('couldv', 1): 68,\n",
              " ('screw', 1): 86,\n",
              " ('behind', 1): 466,\n",
              " ('grow', 1): 208,\n",
              " ('cuttingcommitte', 1): 1,\n",
              " ('nowaday', 1): 37,\n",
              " ('editor', 1): 66,\n",
              " ('name', 1): 1171,\n",
              " ('edward', 1): 66,\n",
              " ('who', 1): 241,\n",
              " ('slowli', 1): 126,\n",
              " ('wellnot', 1): 3,\n",
              " ('nut', 1): 53,\n",
              " ('violenc', 1): 428,\n",
              " ('gore', 1): 512,\n",
              " ('produc', 1): 837,\n",
              " ('compani', 1): 237,\n",
              " ('boss', 1): 110,\n",
              " ('sam', 1): 145,\n",
              " ('campbellfunni', 1): 1,\n",
              " ('bruce', 1): 165,\n",
              " ('raimi', 1): 29,\n",
              " ('surpris', 1): 569,\n",
              " ('rich', 1): 202,\n",
              " ('limb', 1): 29,\n",
              " ('rape', 1): 248,\n",
              " ('beaver', 1): 11,\n",
              " ('shot', 1): 1249,\n",
              " ('bazooka', 1): 6,\n",
              " ('origin', 1): 1761,\n",
              " ('anymor', 1): 140,\n",
              " ('hard', 1): 1013,\n",
              " ('bore', 1): 1457,\n",
              " ('quick', 1): 160,\n",
              " ('boredom', 1): 65,\n",
              " ('recov', 1): 38,\n",
              " ('left', 1): 934,\n",
              " ('besid', 1): 189,\n",
              " ('push', 1): 139,\n",
              " ('ejectbutton', 1): 1,\n",
              " ('obviou', 1): 471,\n",
              " ('stolen', 1): 57,\n",
              " ('silenc', 1): 72,\n",
              " ('lamb', 1): 18,\n",
              " ('braindead', 1): 19,\n",
              " ('othersand', 1): 1,\n",
              " ('there', 1): 1405,\n",
              " ('classic', 1): 554,\n",
              " ('poster', 1): 84,\n",
              " ('wellbr', 1): 77,\n",
              " ('find', 1): 1934,\n",
              " ('sweden', 1): 20,\n",
              " ('convinc', 1): 413,\n",
              " ('north', 1): 65,\n",
              " ('danish', 1): 20,\n",
              " ('nattevagten', 1): 1,\n",
              " ('none', 1): 479,\n",
              " ('join', 1): 123,\n",
              " ('crew', 1): 294,\n",
              " ('dumb', 1): 457,\n",
              " ('mood', 1): 128,\n",
              " ('danc', 1): 390,\n",
              " ('watchabl', 1): 171,\n",
              " ('disappoint', 1): 930,\n",
              " ('compar', 1): 386,\n",
              " ('gawdbr', 1): 3,\n",
              " ('assum', 1): 205,\n",
              " ('art', 1): 437,\n",
              " ('trap', 1): 146,\n",
              " ('filmasart', 1): 3,\n",
              " ('ye', 1): 624,\n",
              " ('photograph', 1): 140,\n",
              " ('ultim', 1): 240,\n",
              " ('lack', 1): 989,\n",
              " ('depth', 1): 202,\n",
              " ('tension', 1): 196,\n",
              " ('around', 1): 1477,\n",
              " ('supposedli', 1): 169,\n",
              " ('surround', 1): 165,\n",
              " ('tango', 1): 6,\n",
              " ('teas', 1): 15,\n",
              " ('hot', 1): 359,\n",
              " ('audaci', 1): 8,\n",
              " ('precis', 1): 35,\n",
              " ('blackwat', 1): 2,\n",
              " ('valley', 1): 51,\n",
              " ('exorc', 1): 19,\n",
              " ('possess', 1): 154,\n",
              " ('young', 1): 1007,\n",
              " ('describ', 1): 283,\n",
              " ('exorcist', 1): 36,\n",
              " ('emili', 1): 24,\n",
              " ('rose', 1): 85,\n",
              " ('terrif', 1): 58,\n",
              " ('terrifi', 1): 51,\n",
              " ('imo', 1): 18,\n",
              " ('bve', 1): 1,\n",
              " ('certainli', 1): 531,\n",
              " ('budget', 1): 868,\n",
              " ('copi', 1): 301,\n",
              " ('finish', 1): 349,\n",
              " ('feel', 1): 1940,\n",
              " ('scifi', 1): 264,\n",
              " ('channel', 1): 221,\n",
              " ('product', 1): 937,\n",
              " ('ridicul', 1): 719,\n",
              " ('3000', 1): 47,\n",
              " ('showbr', 1): 41,\n",
              " ('horrend', 1): 85,\n",
              " ('perform', 1): 1461,\n",
              " ('lead', 1): 1026,\n",
              " ('roll', 1): 189,\n",
              " ('except', 1): 767,\n",
              " ('jefferi', 1): 5,\n",
              " ('reanim', 1): 25,\n",
              " ('comb', 1): 21,\n",
              " ('sheriff', 1): 102,\n",
              " ('specialbr', 1): 6,\n",
              " ('focus', 1): 140,\n",
              " ('sleep', 1): 207,\n",
              " ('demon', 1): 219,\n",
              " ('teenag', 1): 346,\n",
              " ('daughter', 1): 454,\n",
              " ('lock', 1): 105,\n",
              " ('cmon', 1): 23,\n",
              " ('worri', 1): 124,\n",
              " ('voic', 1): 459,\n",
              " ('eat', 1): 277,\n",
              " ('rabbit', 1): 27,\n",
              " ('stare', 1): 114,\n",
              " ('put', 1): 1366,\n",
              " ('fog', 1): 22,\n",
              " ('machin', 1): 165,\n",
              " ('bed', 1): 169,\n",
              " ('dlist', 1): 6,\n",
              " ('demonbr', 1): 3,\n",
              " ('ghastli', 1): 23,\n",
              " ('deed', 1): 32,\n",
              " ('alist', 1): 6,\n",
              " ('crucifix', 1): 10,\n",
              " ('intercours', 1): 7,\n",
              " ('bodi', 1): 575,\n",
              " ('distort', 1): 45,\n",
              " ('projectil', 1): 4,\n",
              " ('vomitingbr', 1): 1,\n",
              " ('worth', 1): 852,\n",
              " ('discount', 1): 21,\n",
              " ('rentalbr', 1): 5,\n",
              " ('10', 1): 819,\n",
              " ('cheerlead', 1): 39,\n",
              " ('coach', 1): 66,\n",
              " ('coupl', 1): 802,\n",
              " ('cabin', 1): 50,\n",
              " ('wood', 1): 294,\n",
              " ('unseen', 1): 29,\n",
              " ('wrote', 1): 300,\n",
              " ('jim', 1): 144,\n",
              " ('wynorski', 1): 22,\n",
              " ('horrid', 1): 93,\n",
              " ('busti', 1): 9,\n",
              " ('cop', 1): 396,\n",
              " ('1990', 1): 55,\n",
              " ('die', 1): 788,\n",
              " ('reason', 1): 1553,\n",
              " ('sequel', 1): 436,\n",
              " ('slumber', 1): 14,\n",
              " ('parti', 1): 276,\n",
              " ('massacr', 1): 77,\n",
              " ('sadli', 1): 285,\n",
              " ('met', 1): 99,\n",
              " ('outing', 1): 50,\n",
              " ('nearli', 1): 300,\n",
              " ('previou', 1): 213,\n",
              " ('franchis', 1): 80,\n",
              " ('includ', 1): 752,\n",
              " ('spm', 1): 3,\n",
              " ('furthermor', 1): 61,\n",
              " ('slasher', 1): 214,\n",
              " ('grade', 1): 199,\n",
              " ('candi', 1): 98,\n",
              " ('ricki', 1): 15,\n",
              " ('ray', 1): 120,\n",
              " ('topless', 1): 71,\n",
              " ('april', 1): 29,\n",
              " ('flower', 1): 32,\n",
              " ('chariti', 1): 12,\n",
              " ('rahmer', 1): 4,\n",
              " ('boob', 1): 41,\n",
              " ('bun', 1): 6,\n",
              " ('shower', 1): 91,\n",
              " ('nude', 1): 104,\n",
              " ('later', 1): 724,\n",
              " ('tami', 1): 5,\n",
              " ('sheffield', 1): 19,\n",
              " ('bare', 1): 389,\n",
              " ('reveng', 1): 177,\n",
              " ('us', 1): 1255,\n",
              " ('view', 1): 692,\n",
              " ('public', 1): 253,\n",
              " ('wait', 1): 553,\n",
              " ('kick', 1): 230,\n",
              " ('costner', 1): 28,\n",
              " ('aveng', 1): 26,\n",
              " ('lover', 1): 215,\n",
              " ('fate', 1): 86,\n",
              " ('wonder', 1): 1000,\n",
              " ('rest', 1): 788,\n",
              " ('hero', 1): 519,\n",
              " ('choic', 1): 220,\n",
              " ('black', 1): 830,\n",
              " ('rain', 1): 65,\n",
              " ('cinema', 1): 440,\n",
              " ('brother', 1): 497,\n",
              " ('insteadi', 1): 1,\n",
              " ('caught', 1): 172,\n",
              " ('turkey', 1): 144,\n",
              " ('theme', 1): 355,\n",
              " ('tune', 1): 104,\n",
              " ('listen', 1): 201,\n",
              " ('cddont', 1): 1,\n",
              " ('aw', 1): 1195,\n",
              " ('heard', 1): 416,\n",
              " ('vampir', 1): 326,\n",
              " ('suggest', 1): 323,\n",
              " ('appropri', 1): 102,\n",
              " ('sens', 1): 975,\n",
              " ('safeauto', 1): 2,\n",
              " ('commerci', 1): 143,\n",
              " ('badbr', 1): 88,\n",
              " ('appli', 1): 61,\n",
              " ('8', 1): 96,\n",
              " ('random', 1): 256,\n",
              " ('place', 1): 1093,\n",
              " ('hedg', 1): 9,\n",
              " ('trimmer', 1): 4,\n",
              " ('chainsaw', 1): 40,\n",
              " ('sound', 1): 1065,\n",
              " ('effectsbr', 1): 18,\n",
              " ('undoubtedli', 1): 30,\n",
              " ('poorest', 1): 13,\n",
              " ('life', 1): 1688,\n",
              " ('circumst', 1): 94,\n",
              " ('wouldnt', 1): 532,\n",
              " ('respons', 1): 223,\n",
              " ('entir', 1): 872,\n",
              " ('11', 1): 66,\n",
              " ('oldsbr', 1): 5,\n",
              " ('offer', 1): 391,\n",
              " ('sole', 1): 121,\n",
              " ('base', 1): 561,\n",
              " ('comic', 1): 401,\n",
              " ('count', 1): 195,\n",
              " ('flaw', 1): 194,\n",
              " ('routin', 1): 108,\n",
              " ('babysit', 1): 11,\n",
              " ('gig', 1): 22,\n",
              " ('seclud', 1): 10,\n",
              " ('lake', 1): 77,\n",
              " ('hous', 1): 797,\n",
              " ('terror', 1): 121,\n",
              " ('school', 1): 655,\n",
              " ('student', 1): 316,\n",
              " ('jill', 1): 83,\n",
              " ('johnson', 1): 53,\n",
              " ('camilla', 1): 16,\n",
              " ('bell', 1): 70,\n",
              " ('receiv', 1): 156,\n",
              " ('threaten', 1): 114,\n",
              " ('sadist', 1): 72,\n",
              " ('stalker', 1): 24,\n",
              " ('stay', 1): 492,\n",
              " ('step', 1): 160,\n",
              " ('ahead', 1): 120,\n",
              " ('himbr', 1): 50,\n",
              " ('20', 1): 331,\n",
              " ('downhil', 1): 71,\n",
              " ('remak', 1): 356,\n",
              " ('stretch', 1): 141,\n",
              " ('80', 1): 332,\n",
              " ('elimin', 1): 46,\n",
              " ('hire', 1): 197,\n",
              " ('etc', 1): 451,\n",
              " ('suspens', 1): 388,\n",
              " ('figur', 1): 486,\n",
              " ('dull', 1): 526,\n",
              " ('less', 1): 738,\n",
              " ('90', 1): 301,\n",
              " ('premis', 1): 334,\n",
              " ('realist', 1): 180,\n",
              " ...}"
            ]
          },
          "execution_count": 22,
          "metadata": {},
          "output_type": "execute_result"
        }
      ],
      "source": [
        "## Run this cell to get an idea about the corpus of words and their occurrence along with labels. \n",
        "## In this, we are computing the frequency of occurrence of word given that a review is 'positive'.\n",
        "## Similarly, we also compute the frequence of occurence of word given that a review is 'negative'.\n",
        "freqs"
      ]
    },
    {
      "cell_type": "markdown",
      "id": "759c24bc",
      "metadata": {
        "id": "759c24bc"
      },
      "source": [
        "## Q4. Training the Naive Bayes Model: (20 points)\n",
        "\n",
        "Now we are in the training phase of the Naive Bayes algorithm. In this cell, take a look at the ways to calculate the log likelihood and log prior values as these are important for testing in the next few cells. \n",
        "\n",
        "Also calculate the frequency of occurrence of words where the output is negative. In the same way, calculate the word frequency count using the above functions in order to compute the log likelihood.\n",
        "\n",
        "Return the logprior and loglikelihood output by the model from this function. "
      ]
    },
    {
      "cell_type": "code",
      "execution_count": 23,
      "id": "a7f280e3",
      "metadata": {
        "id": "a7f280e3"
      },
      "outputs": [],
      "source": [
        "def train_naive_bayes(freqs, train_x, train_y):\n",
        "    '''\n",
        "    Input:\n",
        "        freqs: dictionary from (word, label) to how often the word appears\n",
        "        train_x: a list of reviews\n",
        "        train_y: a list of labels correponding to the reviews (0,1)\n",
        "    Output:\n",
        "        logprior: the log prior. (equation 3 above)\n",
        "        loglikelihood: the log likelihood of you Naive bayes equation. (equation 6 above)\n",
        "    '''\n",
        "    loglikelihood = {}\n",
        "    logprior = 0\n",
        "\n",
        "\n",
        "    # calculate V, the number of unique words in the vocabulary\n",
        "    vocab = []\n",
        "    for key in freqs.keys():\n",
        "        if key[0] not in vocab:\n",
        "            vocab.append(key[0])\n",
        "    V = len(vocab)\n",
        "\n",
        "    # calculate num_pos and num_neg - the total number of positive and negative words for all documents\n",
        "    num_pos = num_neg = 0\n",
        "    for pair in freqs.keys():\n",
        "        # if the label is positive (greater than zero)\n",
        "        if pair[1]==1:\n",
        "\n",
        "            # Increment the number of positive words by the count for this (word, label) pair\n",
        "            num_pos = freqs[pair]\n",
        "\n",
        "        # else, the label is negative\n",
        "        else:\n",
        "\n",
        "            # increment the number of negative words by the count for this (word,label) pair\n",
        "            num_neg = freqs[pair]\n",
        "\n",
        "    # Calculate num_doc, the number of documents\n",
        "    num_doc = len(train_x)\n",
        "\n",
        "    # Calculate D_pos, the number of positive documents \n",
        "    pos_num_docs = 0\n",
        "    for i in train_y:\n",
        "        if i==1:\n",
        "            pos_num_docs+=1\n",
        "\n",
        "    # Calculate D_neg, the number of negative documents \n",
        "    neg_num_docs = 0\n",
        "    for i in train_y:\n",
        "        if i==0:\n",
        "            neg_num_docs+=1\n",
        "\n",
        "    # Calculate logprior\n",
        "    logprior = np.log(pos_num_docs)-np.log(neg_num_docs)\n",
        "\n",
        "    # For each word in the vocabulary...\n",
        "    for word in vocab:\n",
        "        # get the positive and negative frequency of the word\n",
        "        freq_pos = find_occurrence(freqs,word,1)\n",
        "        freq_neg = find_occurrence(freqs,word,0)\n",
        "\n",
        "        # calculate the probability that each word is positive, and negative\n",
        "        p_w_pos = (freq_pos+1)/(num_pos+V)\n",
        "        p_w_neg = (freq_neg+1)/(num_neg+V)\n",
        "\n",
        "        # calculate the log likelihood of the word\n",
        "        loglikelihood[word] = np.log(p_w_pos/p_w_neg)\n",
        "\n",
        "\n",
        "    return logprior, loglikelihood"
      ]
    },
    {
      "cell_type": "code",
      "execution_count": 24,
      "id": "1561d892",
      "metadata": {
        "id": "1561d892"
      },
      "outputs": [
        {
          "name": "stdout",
          "output_type": "stream",
          "text": [
            "0.0\n",
            "75779\n"
          ]
        }
      ],
      "source": [
        "# You do not have to input any code in this cell, but it is relevant to grading, so please do not change anything\n",
        "logprior, loglikelihood = train_naive_bayes(freqs, x_train, y_train)\n",
        "print(logprior)\n",
        "print(len(loglikelihood))"
      ]
    },
    {
      "cell_type": "markdown",
      "id": "19d9c882",
      "metadata": {
        "id": "19d9c882"
      },
      "source": [
        "### Expected Output \n",
        "\n",
        "0.0 <br>\n",
        "91425"
      ]
    },
    {
      "cell_type": "markdown",
      "id": "78b51303",
      "metadata": {
        "id": "78b51303"
      },
      "source": [
        "## Q5. Implementing Naive Bayes Predict Function: (10 points)\n",
        "\n",
        "It is now time to make our prediction as to whether a given review is negative or positive respectively. \n",
        "\n",
        "After adding the log likelihood values, ensure that the output is 1 (negative) if the sum of the log likelihood value is greater than 0 and 0 (positive) if the sum of the log likelihood is less than or equal to 0. "
      ]
    },
    {
      "cell_type": "code",
      "execution_count": 25,
      "id": "b692c2f9",
      "metadata": {
        "id": "b692c2f9"
      },
      "outputs": [],
      "source": [
        "# TASK 4 CELL\n",
        "\n",
        "def naive_bayes_predict(review, logprior, loglikelihood):\n",
        "    '''\n",
        "    Params:\n",
        "        review: a string\n",
        "        logprior: a number\n",
        "        loglikelihood: a dictionary of words mapping to numbers\n",
        "    Return:\n",
        "        total_prob: the sum of all the loglikelihoods of each word in the review (if found in the dictionary) + logprior (a number)\n",
        "\n",
        "    '''\n",
        "    \n",
        "      # process the review to get a list of words\n",
        "    word_l = clean_review(review)\n",
        "\n",
        "    # initialize probability to zero\n",
        "    total_prob = 0\n",
        "\n",
        "    # add the logprior\n",
        "    total_prob = logprior\n",
        "\n",
        "    for word in word_l:\n",
        "\n",
        "        # check if the word exists in the loglikelihood dictionary\n",
        "        if word in loglikelihood.keys():\n",
        "            # add the log likelihood of that word to the probability\n",
        "            total_prob += loglikelihood[word]\n",
        "\n",
        "    if total_prob>0:\n",
        "        total_prob=1\n",
        "    else:\n",
        "        total_prob=0\n",
        "\n",
        "\n",
        "    return total_prob"
      ]
    },
    {
      "cell_type": "code",
      "execution_count": 26,
      "id": "4b170333",
      "metadata": {
        "colab": {
          "base_uri": "https://localhost:8080/"
        },
        "id": "4b170333",
        "outputId": "0cf6bc90-90e8-4dee-bf95-7eaf39dce147"
      },
      "outputs": [
        {
          "name": "stdout",
          "output_type": "stream",
          "text": [
            "The expected output is 0\n"
          ]
        }
      ],
      "source": [
        "# You do not have to input any code in this cell, but it is relevant to grading, so please do not change anything\n",
        "\n",
        "# Experiment with your own review.\n",
        "my_review = \"I thought this series was going to be another fun, action series with some dynamic plots and great performances. I was wrong. While I like Jamie Denton, this show is hardly worth watching at all, unless you enjoy watching some people brutalized and the actions of the agents supposedly warranted under the theme of national security. The show is great propaganda for the current government, and spews out jingoism as though we talk that way every day. After a couple of episodes, it was boring the hell out of me, and I started watching reruns of House Invaders on BBCAmerica instead. Rather watch CSI and Without a Trace, without a doubt.\"\n",
        "p = naive_bayes_predict(my_review, logprior, loglikelihood)\n",
        "print('The expected output is', p)"
      ]
    },
    {
      "cell_type": "markdown",
      "id": "6242708f",
      "metadata": {
        "id": "6242708f"
      },
      "source": [
        "### Expected Output :\n",
        "The expected output is 1"
      ]
    },
    {
      "cell_type": "markdown",
      "id": "7c4eeb71",
      "metadata": {
        "id": "7c4eeb71"
      },
      "source": [
        "## Q6. Implementing Naive Bayes Test function: (10 points)\n",
        "\n",
        "In this function, implement the previous functions such as naive_bayes_predict to get the predictions for the test set. \n",
        "\n",
        "In addition to this, the function should return the total number of reviews that it correctly classified as 'positive' or 'negative'. "
      ]
    },
    {
      "cell_type": "code",
      "execution_count": 27,
      "id": "66a511e7",
      "metadata": {
        "id": "66a511e7"
      },
      "outputs": [],
      "source": [
        "# UNQ_C6 (UNIQUE CELL IDENTIFIER, DO NOT EDIT)\n",
        "def test_naive_bayes(test_x, test_y, logprior, loglikelihood):\n",
        "    \"\"\"\n",
        "    Input:\n",
        "        test_x: A list of reviews\n",
        "        test_y: the corresponding labels for the list of reviews\n",
        "        logprior: the logprior\n",
        "        loglikelihood: a dictionary with the loglikelihoods for each word\n",
        "    Output:\n",
        "        accuracy: (# of reviews classified correctly)/(total # of reviews)\n",
        "    \"\"\"\n",
        "    accuracy = 0  \n",
        "\n",
        "    \n",
        "    y_hats = []\n",
        "    for review in test_x:\n",
        "        # if the prediction is > 0\n",
        "        if naive_bayes_predict(review, logprior, loglikelihood)>0:\n",
        "            # the predicted class is 1\n",
        "            y_hat_i = 1\n",
        "        else:\n",
        "            # otherwise the predicted class is 0\n",
        "            y_hat_i = 0\n",
        "\n",
        "        # append the predicted class to the list y_hats\n",
        "        y_hats.append(y_hat_i)\n",
        "\n",
        "    # error is the average of the absolute values of the differences between y_hats and test_y\n",
        "    l = len(test_y)\n",
        "    err = []\n",
        "    for i in range(l):\n",
        "        err.append(abs(y_hats[i]-test_y[i]))\n",
        "    error = np.mean(err)\n",
        "\n",
        "    accuracy = 1-error\n",
        "\n",
        "  \n",
        "    return accuracy,y_hats"
      ]
    },
    {
      "cell_type": "code",
      "execution_count": 28,
      "id": "d2e1a389",
      "metadata": {},
      "outputs": [],
      "source": [
        "\n",
        "#print(len(y_hats))\n",
        "#print(len(test_y))\n",
        "#print(len(test_x))"
      ]
    },
    {
      "cell_type": "code",
      "execution_count": 29,
      "id": "8a9c5d9d",
      "metadata": {
        "id": "8a9c5d9d"
      },
      "outputs": [
        {
          "name": "stdout",
          "output_type": "stream",
          "text": [
            "If you like original gut wrenching laughter you will like this movie. If you are young or old then y -> 0.00\n",
            "What a waste of talent. A very poor, semi-coherent, script cripples this film. Rather unimaginative  -> 1.00\n",
            "I have seen this film at least 100 times and I am still excited by it, the acting is perfect and the -> 0.00\n",
            "Cheap, amateurish, unimaginative, exploitative... but don't think it'll have redeeming amusement val -> 1.00\n"
          ]
        }
      ],
      "source": [
        "# For grading purpose only\n",
        "# You do not have to input any code in this cell, but it is relevant to grading, so please do not change anything\n",
        "\n",
        "# Run this cell to test your function\n",
        "\n",
        "for review in [\"If you like original gut wrenching laughter you will like this movie. If you are young or old then you will love this movie, hell even my mom liked it.<br /><br />Great Camp!!!\",\n",
        "                \"What a waste of talent. A very poor, semi-coherent, script cripples this film. Rather unimaginative direction, too. Some VERY faint echoes of Fargo here, but it just doesn't come off.\",\n",
        "                \"I have seen this film at least 100 times and I am still excited by it, the acting is perfect and the romance between Joe and Jean keeps me on the edge of my seat, plus I still think Bryan Brown is the tops. Brilliant Film.\",\n",
        "                \"Cheap, amateurish, unimaginative, exploitative... but don't think it'll have redeeming amusement value. About as unentertaining, uninstructive and just plain dull as a film can be.\"]:\n",
        "    p = naive_bayes_predict(review, logprior, loglikelihood)\n",
        "    print(f'{review[:100]} -> {p:.2f}')\n",
        "    "
      ]
    },
    {
      "cell_type": "markdown",
      "id": "43e2ef98",
      "metadata": {
        "id": "43e2ef98"
      },
      "source": [
        "### Expected Output :\n",
        "\n",
        "If you like original gut wrenching laughter you will like this movie. If you are young or old then y -> 0.00 <br>\n",
        "What a waste of talent. A very poor, semi-coherent, script cripples this film. Rather unimaginative  -> 1.00<br>\n",
        "I have seen this film at least 100 times and I am still excited by it, the acting is perfect and the -> 0.00 <br>\n",
        "Cheap, amateurish, unimaginative, exploitative... but don't think it'll have redeeming amusement val -> 1.00\n",
        "\n"
      ]
    },
    {
      "cell_type": "code",
      "execution_count": 30,
      "id": "216fa97a",
      "metadata": {
        "colab": {
          "base_uri": "https://localhost:8080/"
        },
        "id": "216fa97a",
        "outputId": "9d1f21c7-b324-43c2-e841-269c0306cbb4"
      },
      "outputs": [
        {
          "data": {
            "text/plain": [
              "1"
            ]
          },
          "execution_count": 30,
          "metadata": {},
          "output_type": "execute_result"
        }
      ],
      "source": [
        "# Feel free to check the sentiment of your own review below\n",
        "my_review = 'The moview was very boring, I wanted to leave in the middle'\n",
        "naive_bayes_predict(my_review, logprior, loglikelihood)"
      ]
    },
    {
      "cell_type": "markdown",
      "id": "8a45e4f0",
      "metadata": {
        "id": "8a45e4f0"
      },
      "source": [
        "### Expected Output :\n",
        "1"
      ]
    },
    {
      "cell_type": "markdown",
      "id": "mAIkM4aCC1H7",
      "metadata": {
        "id": "mAIkM4aCC1H7"
      },
      "source": [
        "## Q7. Evaluate the accuracy (10 Points)\n",
        "1. Split your data into training and test sets using random selection. Set the seed as parameter of the function so that user can select a different training and test set by changin seed.\n",
        "\n",
        "\n",
        "2. Calculate model paramters with training set.\n",
        "\n",
        "3. Print confusion matrix for training and test set.\n",
        "\n",
        "4. Examine False Positive and False Negative cases and provide reasoning why they get misclassified."
      ]
    },
    {
      "cell_type": "code",
      "execution_count": 31,
      "id": "10ab9e83",
      "metadata": {},
      "outputs": [],
      "source": [
        "def evaluate_dynamic_accuracy(seed):\n",
        "    global df_upsampled\n",
        "\n",
        "    df_upsampled = df_upsampled.sample(frac=1 , random_state=seed)\n",
        "    negative_data_points_train = df_upsampled[df_upsampled[\"sentiment\"]==\"negative\"].iloc[:10000]\n",
        "    positive_data_points_train = df_upsampled[df_upsampled[\"sentiment\"]==\"positive\"].iloc[:10000]\n",
        "\n",
        "    negative_data_points_test= df_upsampled[df_upsampled[\"sentiment\"]==\"negative\"].iloc[10000:]\n",
        "    positive_data_points_test= df_upsampled[df_upsampled[\"sentiment\"]==\"positive\"].iloc[10000:]\n",
        "\n",
        "    x_train = pd.concat([negative_data_points_train.review,positive_data_points_train.review])\n",
        "    y_train=pd.concat([negative_data_points_train.sentiment,positive_data_points_train.sentiment])\n",
        "\n",
        "    x_test = pd.concat([negative_data_points_test.review,positive_data_points_test.review])\n",
        "    y_test = pd.concat([negative_data_points_test.sentiment,positive_data_points_test.sentiment])\n",
        "\n",
        "    print(y_train.value_counts())\n",
        "    print(y_test.value_counts())\n",
        "\n",
        "    output_map = {'positive':0 , 'negative':1}\n",
        "    y_train=y_train.map(output_map)\n",
        "    y_test=y_test.map(output_map)\n",
        "    \n",
        "    print(\"Check length of test x\")\n",
        "    print(len(x_test))\n",
        "\n",
        "    print(\"Check lenth of test y\")\n",
        "    print(len(y_test))\n",
        "\n",
        "    y_list = y_test.values\n",
        "    ytrain_list=y_train.values\n",
        "    freqs = review_counter({},x_train,y_train)\n",
        "    logprior,loglikelihood = train_naive_bayes(freqs,x_train,y_train)\n",
        "    accuracy,y_hats= test_naive_bayes(x_test,y_list,logprior,loglikelihood)\n",
        "    accuracy_t,y_hats_t = test_naive_bayes(x_train, ytrain_list,logprior,loglikelihood)\n",
        "   \n",
        "    print(\"The model parameter after testing the data set\")\n",
        "    print(\"Print the accuracy of . Below are the results \")\n",
        "    print(accuracy)\n",
        "    return accuracy,y_hats,accuracy_t,y_hats_t\n",
        "   \n",
        "\n",
        "\n"
      ]
    },
    {
      "cell_type": "code",
      "execution_count": 32,
      "id": "cdd3fb12",
      "metadata": {},
      "outputs": [
        {
          "name": "stdout",
          "output_type": "stream",
          "text": [
            "negative    10000\n",
            "positive    10000\n",
            "Name: sentiment, dtype: int64\n",
            "negative    2474\n",
            "positive    2474\n",
            "Name: sentiment, dtype: int64\n",
            "Check length of test x\n",
            "4948\n",
            "Check lenth of test y\n",
            "4948\n",
            "The model parameter after testing the data set\n",
            "Print the accuracy of . Below are the results \n",
            "0.8728779304769604\n",
            "0.8728779304769604\n"
          ]
        }
      ],
      "source": [
        "a,y,c,d=evaluate_dynamic_accuracy(1)\n",
        "print(a)"
      ]
    },
    {
      "cell_type": "code",
      "execution_count": 33,
      "id": "a97584db",
      "metadata": {},
      "outputs": [
        {
          "name": "stdout",
          "output_type": "stream",
          "text": [
            "Confusion matrix for the test set\n",
            "[[2109  365]\n",
            " [ 264 2210]]\n",
            "Confusion matrix for the train set\n",
            "[[9130  870]\n",
            " [ 429 9571]]\n"
          ]
        }
      ],
      "source": [
        "print(\"Confusion matrix for the test set\")\n",
        "cf_matrix = confusion_matrix(y_test,y)\n",
        "print(cf_matrix)\n",
        "print(\"Confusion matrix for the train set\")\n",
        "cf_matrix_t = confusion_matrix(y_train,d)\n",
        "print(cf_matrix_t)\n"
      ]
    },
    {
      "cell_type": "code",
      "execution_count": 34,
      "id": "fcc13047",
      "metadata": {},
      "outputs": [
        {
          "name": "stdout",
          "output_type": "stream",
          "text": [
            "False positive are 264\n",
            "False negative are 365\n"
          ]
        }
      ],
      "source": [
        "fp = []\n",
        "fn = []\n",
        "index=0\n",
        "for actual , predicted in zip(y_test,y):\n",
        "    if actual==0 and predicted == 1:fn.append(index)\n",
        "    if actual==1 and predicted == 0:fp.append(index)\n",
        "    index +=1\n",
        "print(f'False positive are {len(fp)}')\n",
        "print(f'False negative are {len(fn)}')\n",
        "\n",
        "# the reason that they are missclassified is beacuse of the functionalities that we have used in the clean review and also while \n",
        "# testing and training the data . It depends on how the model is trained and test using the clean review funtion as it is used\n",
        "#  to clean the data and bring in the format which the computer can understand  Its the functionality of the stemmer and the \n",
        "# calculation of the probabilty that has been predicted and when its is compared with the actual one we do see the difference \n",
        "# in false postive and false negative \n"
      ]
    },
    {
      "cell_type": "markdown",
      "id": "XbzttYVnBo7W",
      "metadata": {
        "id": "XbzttYVnBo7W"
      },
      "source": [
        "# Q8. Modularize your calssifier (10 points)\n",
        "1. Convert your code into a python module text_classifier.py\n",
        "\n",
        "2. The user should be able to launch the application on command prompt using python test_classifier.py command. The module will automatically load the model paramters from a local file of your choice and be ready to take the input from user on command prompt. The program will preprocess user input, tokenize and predict the class.\n",
        "\n",
        "3. Your module will take the input from user and output sentiment class in an indefinite loop. The output should printout the probabilities for each input token along with the final classification decision. Program will quit if user enters X.\n"
      ]
    },
    {
      "cell_type": "code",
      "execution_count": 35,
      "id": "lKAQrnnbBnKe",
      "metadata": {
        "id": "lKAQrnnbBnKe"
      },
      "outputs": [],
      "source": [
        "# please refer the text_classifier.py and the log-prior json file for it "
      ]
    },
    {
      "cell_type": "markdown",
      "id": "82e6e4d1",
      "metadata": {
        "id": "82e6e4d1"
      },
      "source": [
        "# Q9. Theory Questions: (10 points)\n",
        "\n",
        "1. Why is Laplace Smoothing or Additive Smoothing required while executing Naive Bayes operations, especially for text classification? Show how not having additive smoothing leads to bad outcomes by using an example of training and the test set. (10 points)\n",
        "\n",
        "With text data, we might run into words that might never appear in the training set, this makes the probability of the word P(word | corpus) = 0. The intuition behind the smoothing is to ensure that our posterior probabilities are never zero, we add “alpha\" to the numerator, and we add alpha*V to the denominator (V is the size of the vocabulary). So, in the case that we don’t have a particular word in our training set, the posterior probability comes out to (alpha + count)/ (N + alpha*V), instead of zero. Smoothing this way doesn't change the predictions since the probabilities of all the words are altered accordingly. We can observe that as alpha increases, the distribution turns uniform i.e., the probability value will tend to be 0.5 (i.e, it is equally likely that a word equals is a positive or negative). Empirically, alpha = 1 seems to be a very good value to solve the problem of zero probabilities in the Naive Bayes algorithm.\n",
        "\n",
        "Example: \n",
        "Now let's say we have an review (“we”, “are”, “thrilled”, “to”, “have”, “you”, “onboard”) which your classifier rates very highly as \"positive\", say \n",
        "\n",
        "P(positive| “we”, “are”, “thrilled”, “to”, “have”, “you”, “onboard”) = 0.9\n",
        "P(negative| “we”, “are”, “thrilled”, “to”, “have”, “you”, “onboard”) = 0.1\n",
        "\n",
        "Now let’s say you have another review which is exactly same as the one before with one extra word (w) but let’s say this word hasn’t occured neither in training set of positive or negative words. Since the count of the word w is 0\n",
        "\n",
        "P(Positive | w) = P(Negative | w) = 0\n",
        "But since we have\n",
        "\n",
        "P(Positive | “we”, “are”, “thrilled”, “to”, “have”, “you”, “onboard”, w) =  P(Positive | “we”, “are”, “thrilled”, “to”, “have”, “you”, “onboard”) * P(Positive | w) = 0.9 * 0\n",
        "\n",
        "Similarly,\n",
        "\n",
        "P(Negative | “we”, “are”, “thrilled”, “to”, “have”, “you”, “onboard”, w) =  P(Negative | “we”, “are”, “thrilled”, “to”, “have”, “you”, “onboard”) * P(Negative| w) = 0.1 * 0\n",
        "\n",
        "We have the new email classified neither to positive or negative despite the fact that most of the words indeed classify the email to positive. Laplace smoothing solves this by giving the last word a small non-zero probability for both classes, so that the posterior probabilities don't suddenly drop to zero.\n",
        "\n",
        "Example from training set:\n",
        "From cells below, it can be seen that if Laplace is not used, we will encounter with two issues where one being zerodivison error and the other is infinite value for likelihood.\n",
        "\n",
        "\n",
        "2. Why are logarithmic values computed instead of only probability values in the Naive Bayes algorithm? (5 points)\n",
        "\n",
        "A Naive Bayes classifier is set up with a set of features(F) and hypothesis(H). It estimates the probability of each word given each hypothesis i.e, P(F/H). Naive Bayes algorithm then uses these individual probabilities to calculate the class probability, by multiplying these probabilities. If the vocabulary is of size m, the class probability is obtained by multiplying these probabilities m times.\n",
        "\n",
        "With more features (say a 1000), multiplying their probabilities together quickly results in an extremely tiny number (probability values underflow), one which often cannot be represented in a double or long double. Since a probability is always between 0 and 1, a log-probability is always between −∞ and 0 (a much wider range of numbers than between 0 and 1).\n",
        "This is why logarithmic values are computed rather than only the probability values for naive bayes algorithm."
      ]
    },
    {
      "cell_type": "code",
      "execution_count": 36,
      "id": "d904305d",
      "metadata": {},
      "outputs": [],
      "source": [
        "def train_naive_bayes_no_laplace(freqs, train_x, train_y):\n",
        "    '''\n",
        "    Input:\n",
        "        freqs: dictionary from (word, label) to how often the word appears\n",
        "        train_x: a list of messages\n",
        "        train_y: a list of labels correponding to the messages (0,1)\n",
        "    Output:\n",
        "        logprior: the log prior. (equation 3 above)\n",
        "        loglikelihood: the log likelihood of you Naive bayes equation. (equation 6 above)\n",
        "    '''\n",
        "    loglikelihood = {}\n",
        "    logprior = 0\n",
        "\n",
        "\n",
        "    # calculate V, the number of unique words in the vocabulary\n",
        "    vocab = []\n",
        "    for key in freqs.keys():\n",
        "        if key[0] not in vocab:\n",
        "            vocab.append(key[0])\n",
        "    #V = len(vocab)\n",
        "\n",
        "    # calculate num_pos and num_neg - the total number of positive and negative words for all documents\n",
        "    num_pos = num_neg = 0\n",
        "    for pair in freqs.keys():\n",
        "        # if the label is positive (greater than zero)\n",
        "        if pair[1]==1:\n",
        "\n",
        "            # Increment the number of positive words by the count for this (word, label) pair\n",
        "            num_pos+=freqs[pair]\n",
        "\n",
        "        # else, the label is negative\n",
        "        else:\n",
        "\n",
        "            # increment the number of negative words by the count for this (word,label) pair\n",
        "            num_neg+=freqs[pair]\n",
        "\n",
        "    # Calculate num_doc, the number of documents\n",
        "    num_doc = len(train_x)\n",
        "\n",
        "    # Calculate D_pos, the number of positive documents \n",
        "    pos_num_docs = 0\n",
        "    for i in train_y:\n",
        "        if i==1:\n",
        "            pos_num_docs+=1\n",
        "\n",
        "    # Calculate D_neg, the number of negative documents \n",
        "    neg_num_docs = 0\n",
        "    for i in train_y:\n",
        "        if i==0:\n",
        "            neg_num_docs+=1\n",
        "\n",
        "    # Calculate logprior\n",
        "    logprior = np.log(pos_num_docs)-np.log(neg_num_docs)\n",
        "\n",
        "    # For each word in the vocabulary...\n",
        "    for word in vocab:\n",
        "        # get the positive and negative frequency of the word\n",
        "        freq_pos = find_occurrence(freqs,word,1)\n",
        "        freq_neg = find_occurrence(freqs,word,0)\n",
        "\n",
        "        # calculate the probability that each word is positive, and negative\n",
        "        p_w_pos = (freq_pos)/(num_pos)\n",
        "        p_w_neg = (freq_neg)/(num_neg)\n",
        "\n",
        "        # calculate the log likelihood of the word\n",
        "        loglikelihood[word] = np.log(p_w_pos/p_w_neg)\n",
        "\n",
        "\n",
        "    return logprior, loglikelihood"
      ]
    },
    {
      "cell_type": "code",
      "execution_count": 37,
      "id": "dc11dff1",
      "metadata": {},
      "outputs": [
        {
          "ename": "ZeroDivisionError",
          "evalue": "float division by zero",
          "output_type": "error",
          "traceback": [
            "\u001b[1;31m---------------------------------------------------------------------------\u001b[0m",
            "\u001b[1;31mZeroDivisionError\u001b[0m                         Traceback (most recent call last)",
            "\u001b[1;32mc:\\Users\\akank\\OneDrive\\Desktop\\NLP\\Assignment1\\CS6120_NLP_Assignment_1_agnihotria.ipynb Cell 61'\u001b[0m in \u001b[0;36m<cell line: 1>\u001b[1;34m()\u001b[0m\n\u001b[1;32m----> <a href='vscode-notebook-cell:/c%3A/Users/akank/OneDrive/Desktop/NLP/Assignment1/CS6120_NLP_Assignment_1_agnihotria.ipynb#ch0000060?line=0'>1</a>\u001b[0m logprior, loglikelihood \u001b[39m=\u001b[39m train_naive_bayes_no_laplace(freqs, x_train, y_train)\n",
            "\u001b[1;32mc:\\Users\\akank\\OneDrive\\Desktop\\NLP\\Assignment1\\CS6120_NLP_Assignment_1_agnihotria.ipynb Cell 60'\u001b[0m in \u001b[0;36mtrain_naive_bayes_no_laplace\u001b[1;34m(freqs, train_x, train_y)\u001b[0m\n\u001b[0;32m     <a href='vscode-notebook-cell:/c%3A/Users/akank/OneDrive/Desktop/NLP/Assignment1/CS6120_NLP_Assignment_1_agnihotria.ipynb#ch0000059?line=62'>63</a>\u001b[0m     p_w_neg \u001b[39m=\u001b[39m (freq_neg)\u001b[39m/\u001b[39m(num_neg)\n\u001b[0;32m     <a href='vscode-notebook-cell:/c%3A/Users/akank/OneDrive/Desktop/NLP/Assignment1/CS6120_NLP_Assignment_1_agnihotria.ipynb#ch0000059?line=64'>65</a>\u001b[0m     \u001b[39m# calculate the log likelihood of the word\u001b[39;00m\n\u001b[1;32m---> <a href='vscode-notebook-cell:/c%3A/Users/akank/OneDrive/Desktop/NLP/Assignment1/CS6120_NLP_Assignment_1_agnihotria.ipynb#ch0000059?line=65'>66</a>\u001b[0m     loglikelihood[word] \u001b[39m=\u001b[39m np\u001b[39m.\u001b[39mlog(p_w_pos\u001b[39m/\u001b[39;49mp_w_neg)\n\u001b[0;32m     <a href='vscode-notebook-cell:/c%3A/Users/akank/OneDrive/Desktop/NLP/Assignment1/CS6120_NLP_Assignment_1_agnihotria.ipynb#ch0000059?line=68'>69</a>\u001b[0m \u001b[39mreturn\u001b[39;00m logprior, loglikelihood\n",
            "\u001b[1;31mZeroDivisionError\u001b[0m: float division by zero"
          ]
        }
      ],
      "source": [
        "logprior, loglikelihood = train_naive_bayes_no_laplace(freqs, x_train, y_train)"
      ]
    },
    {
      "cell_type": "code",
      "execution_count": null,
      "id": "f8ee437b",
      "metadata": {},
      "outputs": [],
      "source": [
        "find_occurrence(freqs,\"male\",1)"
      ]
    },
    {
      "cell_type": "code",
      "execution_count": null,
      "id": "853800df",
      "metadata": {},
      "outputs": [],
      "source": [
        "find_occurrence(freqs,\"male\",0)"
      ]
    },
    {
      "cell_type": "code",
      "execution_count": null,
      "id": "34ea6f21",
      "metadata": {},
      "outputs": [],
      "source": [
        "np.log(12/0) #np.log(p_w_pos/p_w_neg)"
      ]
    }
  ],
  "metadata": {
    "colab": {
      "collapsed_sections": [],
      "name": "CS6120_NLP_Assignment_1_Notebook.ipynb",
      "provenance": [],
      "toc_visible": true
    },
    "interpreter": {
      "hash": "369f2c481f4da34e4445cda3fffd2e751bd1c4d706f27375911949ba6bb62e1c"
    },
    "kernelspec": {
      "display_name": "Python 3.10.4 64-bit",
      "language": "python",
      "name": "python3"
    },
    "language_info": {
      "codemirror_mode": {
        "name": "ipython",
        "version": 3
      },
      "file_extension": ".py",
      "mimetype": "text/x-python",
      "name": "python",
      "nbconvert_exporter": "python",
      "pygments_lexer": "ipython3",
      "version": "3.10.4"
    }
  },
  "nbformat": 4,
  "nbformat_minor": 5
}

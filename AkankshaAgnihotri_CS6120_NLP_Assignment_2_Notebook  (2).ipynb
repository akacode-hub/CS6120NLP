{
 "cells": [
  {
   "cell_type": "markdown",
   "metadata": {
    "id": "ni4T_dwEHFVa"
   },
   "source": [
    "## CS 6120: Natural Language Processing - Prof. Ahmad Uzair\n",
    "\n",
    "### Assignment 2: Text Classification and Neural Network\n",
    "### Total Points: 100 points"
   ]
  },
  {
   "cell_type": "markdown",
   "metadata": {
    "id": "loQ22M-bCubq"
   },
   "source": [
    "In Assignment 2, you will be dealing with text classification using Multinomial Naive Bayes and Neural Networks. You will also be dealing with vector visualization. In the previous assingment you implemented Bag of Words as the feature selection method. However, in this assignment you will be using TF-IDF Vectorization instead of Bag of Words. We recommend starting with this assignment a little early as the datasets are quite large and several parts of the assignment might take long duration to execute. "
   ]
  },
  {
   "cell_type": "markdown",
   "metadata": {
    "id": "Q3brglC1C0mZ"
   },
   "source": [
    "## Question 1 Text Classification"
   ]
  },
  {
   "cell_type": "markdown",
   "metadata": {
    "id": "IZ1y75IoC3rE"
   },
   "source": [
    "In the first question you will be dealing with 20 News Group Dataset. You are required to implement TF-IDF vectorization from scratch and perform Multinomial Naive Bayes Classification on the News Group Dataset.\n",
    "You may use appropriate packages or modules for fitting the Multinomial Naive Bayes Model, however, the implementation of the TF-IDF Vectorization should be from the scratch."
   ]
  },
  {
   "cell_type": "markdown",
   "metadata": {
    "id": "yRjM45PyC8ML"
   },
   "source": [
    "The 20 newsgroups dataset comprises around 18000 newsgroups posts on 20 topics split in two subsets: one for training (or development) and the other one for testing (or for performance evaluation). The split between the train and test set is based upon a messages posted before and after a specific date.\n",
    "\n",
    "Link to the original dataset: http://archive.ics.uci.edu/ml/datasets/Twenty+Newsgroups\n",
    "\n",
    "You can also import the dataset from sklearn.datasets"
   ]
  },
  {
   "cell_type": "code",
   "execution_count": 54,
   "metadata": {
    "id": "CmFf2INNDJRb"
   },
   "outputs": [],
   "source": [
    "#importing the libraries\n",
    "import numpy as np\n",
    "import sklearn\n",
    "from sklearn.feature_extraction.text import TfidfVectorizer\n",
    "from sklearn.datasets import fetch_20newsgroups\n",
    "from sklearn.metrics import f1_score\n",
    "from pprint import pprint\n",
    "from sklearn.feature_extraction.text import CountVectorizer\n",
    "from sklearn import preprocessing\n",
    "from nltk.corpus import stopwords\n",
    "from nltk.stem import PorterStemmer\n",
    "from nltk.tokenize import word_tokenize\n",
    "import pandas as pd\n",
    "import re\n",
    "import numpy as np\n",
    "from nltk.tokenize import  word_tokenize \n",
    "import nltk\n",
    "import contractions\n",
    "from sklearn.naive_bayes import MultinomialNB\n",
    "from sklearn import metrics"
   ]
  },
  {
   "cell_type": "code",
   "execution_count": 62,
   "metadata": {
    "id": "AEp1SHe5DKCB"
   },
   "outputs": [],
   "source": [
    "# Import the 20 news group dataset utilizing sklearn library\n",
    "\n",
    "mydata_train = fetch_20newsgroups(subset='train',remove=('headers', 'quotes'))\n",
    "\n",
    "mydata_test = fetch_20newsgroups(subset='test',remove=('headers', 'quotes'))\n"
   ]
  },
  {
   "cell_type": "code",
   "execution_count": 63,
   "metadata": {
    "id": "OscOmcE0DMHa"
   },
   "outputs": [
    {
     "name": "stdout",
     "output_type": "stream",
     "text": [
      "['alt.atheism',\n",
      " 'comp.graphics',\n",
      " 'comp.os.ms-windows.misc',\n",
      " 'comp.sys.ibm.pc.hardware',\n",
      " 'comp.sys.mac.hardware',\n",
      " 'comp.windows.x',\n",
      " 'misc.forsale',\n",
      " 'rec.autos',\n",
      " 'rec.motorcycles',\n",
      " 'rec.sport.baseball',\n",
      " 'rec.sport.hockey',\n",
      " 'sci.crypt',\n",
      " 'sci.electronics',\n",
      " 'sci.med',\n",
      " 'sci.space',\n",
      " 'soc.religion.christian',\n",
      " 'talk.politics.guns',\n",
      " 'talk.politics.mideast',\n",
      " 'talk.politics.misc',\n",
      " 'talk.religion.misc']\n"
     ]
    }
   ],
   "source": [
    "# Print the news groups(target) in the dataset\n",
    "\n",
    "pprint(list(mydata_train.target_names))"
   ]
  },
  {
   "cell_type": "code",
   "execution_count": 64,
   "metadata": {
    "id": "JvQb2r0aDR_J"
   },
   "outputs": [
    {
     "name": "stdout",
     "output_type": "stream",
     "text": [
      "<class 'sklearn.utils.Bunch'>\n",
      "<class 'sklearn.utils.Bunch'>\n"
     ]
    }
   ],
   "source": [
    "# What is the type of 'mydata_train' and 'mydata_test'\n",
    "\n",
    "print(type(mydata_train))\n",
    "print(type(mydata_test))"
   ]
  },
  {
   "cell_type": "code",
   "execution_count": 65,
   "metadata": {
    "id": "ozzwyREhDaMK"
   },
   "outputs": [
    {
     "name": "stdout",
     "output_type": "stream",
     "text": [
      "11314\n",
      "11314\n",
      "7532\n",
      "7532\n"
     ]
    }
   ],
   "source": [
    "# Check the length of the data\n",
    "\n",
    "print(len(mydata_train.data))\n",
    "print(len(mydata_train.filenames))\n",
    "print(len(mydata_test.data))\n",
    "print(len(mydata_test.filenames))"
   ]
  },
  {
   "cell_type": "markdown",
   "metadata": {
    "id": "BlipMuEpDz-K"
   },
   "source": [
    "### Expected Output: \n",
    "11314\n",
    "\n",
    "11314\n",
    "\n",
    "7532\n",
    "\n",
    "7532"
   ]
  },
  {
   "cell_type": "markdown",
   "metadata": {
    "id": "55FKOBBuEDI2"
   },
   "source": [
    "## Extracting Features from the Dataset                        (20 Points)"
   ]
  },
  {
   "cell_type": "markdown",
   "metadata": {
    "id": "u4GDENzmEEkG"
   },
   "source": [
    "In order to perform machine learning on text documents, we first need to turn the text content into numerical feature vectors."
   ]
  },
  {
   "cell_type": "markdown",
   "metadata": {
    "id": "OgxfDXmxEHid"
   },
   "source": [
    "### TF-IDF Vectorization"
   ]
  },
  {
   "cell_type": "markdown",
   "metadata": {
    "id": "Q8qNFFYyEKsa"
   },
   "source": [
    "Our model cannot simply read the text data so we convert it into numerical format. In order to convert the data into numerical format we create vectors from text.\n",
    "\n",
    "For this particular purpose we could either employ Bag of Words or TF-IDF Vectorization\n",
    "\n",
    "Bag of Words just creates a set of vectors containing the count of word occurrences in the document (reviews), while the TF-IDF model contains information on the more important words and the less important ones as well.\n",
    "\n",
    "TF-IDF stands for Term Frequency-Inverse Document Frequency, which instead of giving more weight to words that occur more frequently, it gives a higher weight to words that occur less frequently.\n",
    "\n",
    "Ref:https://www.analyticsvidhya.com/blog/2020/02/quick-introduction-bag-of-words-bow-tf-idf/#:~:text=Bag%20of%20Words%20just%20creates,less%20important%20ones%20as%20well."
   ]
  },
  {
   "cell_type": "markdown",
   "metadata": {
    "id": "dLzgRJRZEP3k"
   },
   "source": [
    "TF-IDF = Term Frequency (TF) * Inverse Document Frequency (IDF)"
   ]
  },
  {
   "cell_type": "markdown",
   "metadata": {
    "id": "xe5lHi3NE1QJ"
   },
   "source": [
    "Term Frequency is the measure of the frequency of words in a document. It is the ratio of the number of times the word appears in a document compared to the total number of words in that document.\n",
    "\n",
    "The words that occur rarely in the corpus have a high IDF score. It is the log of the ratio of the number of documents to the number of documents containing the word."
   ]
  },
  {
   "cell_type": "markdown",
   "metadata": {
    "id": "HXotAER_EQ8T"
   },
   "source": [
    "idf(t) = log(N/(df + 1))"
   ]
  },
  {
   "cell_type": "code",
   "execution_count": 66,
   "metadata": {
    "id": "2vzVI8ylFAEl"
   },
   "outputs": [],
   "source": [
    "text = mydata_train.data\n",
    "test = mydata_test.data"
   ]
  },
  {
   "cell_type": "code",
   "execution_count": null,
   "metadata": {},
   "outputs": [],
   "source": []
  },
  {
   "cell_type": "markdown",
   "metadata": {
    "id": "HZ2AatmvFtE-"
   },
   "source": [
    "## Preprocessing the Corpus"
   ]
  },
  {
   "cell_type": "code",
   "execution_count": 67,
   "metadata": {},
   "outputs": [],
   "source": [
    "text_label = mydata_train.target\n",
    "test_label = mydata_test.target"
   ]
  },
  {
   "cell_type": "code",
   "execution_count": 68,
   "metadata": {
    "id": "XyJbe42AFuHp"
   },
   "outputs": [
    {
     "name": "stdout",
     "output_type": "stream",
     "text": [
      "Doc 11314 of 11314\n",
      "Vocabulary count  109574\n",
      "Total number of docs after clean-up is:  11288\n"
     ]
    }
   ],
   "source": [
    "# Preprocessing the data\n",
    "import contractions\n",
    "\n",
    "lines = [] \n",
    "word_list = [] \n",
    "train_labels = []\n",
    " \n",
    "# tokenization takes here which do updates list word_list and lines\n",
    "for i,(line,label) in enumerate(zip(text,text_label)):\n",
    "    print('Doc {} of {}'.format(i+1,len(text)),end='\\r')\n",
    "    expanded_words = []   \n",
    "    for word in line.split():\n",
    "        expanded_words.append(contractions.fix(word))\n",
    "    line = ' '.join(expanded_words)\n",
    "    \n",
    "    line = re.sub(r'\\W+', ' ', line)\n",
    "    line = re.sub(r'\\d+', '', line)\n",
    "    #print('Line after preprocessing is \\n', line)\n",
    "    if len(word_tokenize(line))!=0:\n",
    "        lines.append(word_tokenize(line))\n",
    "        train_labels.append(label)\n",
    "    word_list.extend(word_tokenize(line)) \n",
    "\n",
    "# Make sure the word_list contains unique tokens\n",
    "word_list_unique = list( dict.fromkeys(word_list))\n",
    "print()\n",
    "print('Vocabulary count ', len(word_list_unique))\n",
    "\n",
    "# Calculate the total documents present in the corpus\n",
    "total_docs = len(lines)\n",
    "print('Total number of docs after clean-up is: ',total_docs)\n",
    " \n",
    "#Create a dictionary to keep track of index of each word\n",
    "dict_idx = {}\n",
    "for i,word in enumerate(word_list_unique):\n",
    "    dict_idx[word] = i\n",
    "   "
   ]
  },
  {
   "cell_type": "code",
   "execution_count": 69,
   "metadata": {
    "id": "E6M_CoI9FxYb"
   },
   "outputs": [],
   "source": [
    "# Create a frequency dictionary\n",
    " \n",
    "def frequency_dict(lines, word_list_unique):\n",
    "    '''\n",
    "    lines: list containing all the tokens\n",
    "    ---\n",
    "    freq_word: returns a dictionary which keeps the count of the number of documents containing the given word\n",
    "    '''\n",
    "    freq_word = {}\n",
    "    for i,eachWord in enumerate(word_list_unique):\n",
    "        print('Word {} of {}'.format(i+1,len(word_list_unique)),end='\\r')\n",
    "        word_doc_count = 0\n",
    "        for eachLine in lines:\n",
    "            if eachWord in eachLine:\n",
    "                word_doc_count+=1 \n",
    "                freq_word[eachWord] = word_doc_count\n",
    "    \n",
    "    \n",
    "    return freq_word"
   ]
  },
  {
   "cell_type": "code",
   "execution_count": null,
   "metadata": {
    "id": "qFkt9KBgFz43"
   },
   "outputs": [
    {
     "name": "stdout",
     "output_type": "stream",
     "text": [
      "Word 1301 of 109574\r"
     ]
    }
   ],
   "source": [
    "# Create a dictionary containing the frequency of words utilizing the 'frequency_dict' function\n",
    "\n",
    "# Expect this chunk to take a comparatively longer time to execute since our dataset is large\n",
    "\n",
    "freq_word = frequency_dict(lines, word_list_unique)\n",
    "print()\n",
    "with open('freq_word.txt', 'w') as data:\n",
    "    data.write(str(freq_word))\n",
    "    "
   ]
  },
  {
   "cell_type": "code",
   "execution_count": null,
   "metadata": {},
   "outputs": [],
   "source": [
    "#Read dictionary from text file\n",
    "import ast\n",
    "  \n",
    "# reading the data from the file\n",
    "with open('freq_word.txt') as f:\n",
    "    data = f.read()\n",
    "print(\"Data type before reconstruction : \", type(data))\n",
    "      \n",
    "# reconstructing the data as a dictionary\n",
    "freq_word = ast.literal_eval(data)\n",
    "  \n",
    "print(\"Data type after reconstruction : \", type(freq_word))\n",
    "#print(d)"
   ]
  },
  {
   "cell_type": "code",
   "execution_count": 13,
   "metadata": {
    "id": "vLvPijR_GKHn"
   },
   "outputs": [],
   "source": [
    "# Create a function to calculate the Term Frequency\n",
    "\n",
    "def term_frequency(document, word):\n",
    "    '''\n",
    "    document: list containing the entire corpus\n",
    "    word: word whose term frequency is to be calculated\n",
    "    ---\n",
    "    tf: returns term frequency value\n",
    "    '''\n",
    "    numberofwords = len(document)\n",
    "    countofword = 0\n",
    "    if word in document:\n",
    "        countofword = document.count(word)\n",
    "    \n",
    "    tf = countofword/numberofwords\n",
    "    \n",
    "    return tf"
   ]
  },
  {
   "cell_type": "code",
   "execution_count": 18,
   "metadata": {
    "id": "HA99G_yAGLCC"
   },
   "outputs": [],
   "source": [
    "# Create a function to calculate the Inverse Document Frequency\n",
    " \n",
    "def inverse_df(word,lines):\n",
    "    '''\n",
    "    word: word whose inverse document frequency is to be calculated\n",
    "    ---\n",
    "    idf: return inverse document frequency value\n",
    "    '''\n",
    "\n",
    "    numofdocs = len(lines) \n",
    "    \n",
    "    idf = np.log(numofdocs/(freq_word[word]+1)) \n",
    "    \n",
    "    return idf"
   ]
  },
  {
   "cell_type": "code",
   "execution_count": 19,
   "metadata": {
    "id": "F0irgwv2GRfE"
   },
   "outputs": [],
   "source": [
    "#Create a function to combine the term frequencies (TF) and inverse document (IDF) frequencies calculated above to get TF-IDF\n",
    "\n",
    "def tfidf(sentence,dict_idx):\n",
    "    '''\n",
    "    sentence: list containing the entire corpus\n",
    "    dict: dictionary keeping track of index of each word\n",
    "    ---\n",
    "    tf_idf_vec: returns computed tf-idf\n",
    "    '''\n",
    "\n",
    "    tf_idf_vec = []\n",
    "    for i,eachSentence in enumerate(sentence):\n",
    "        print('Sentence {} of {}'.format(i+1,len(sentence)),end='\\r')\n",
    "        samplefeatures = [0] * len(dict_idx)\n",
    "        \n",
    "        for eachWord in eachSentence:\n",
    "            if eachWord in dict_idx:\n",
    "                samplefeatures[dict_idx[eachWord]] = term_frequency(eachSentence,eachWord) * inverse_df(eachWord,sentence)\n",
    "            \n",
    "        tf_idf_vec.append(samplefeatures)\n",
    "        \n",
    "    return tf_idf_vec"
   ]
  },
  {
   "cell_type": "markdown",
   "metadata": {},
   "source": [
    "Tf-IDF is the feature vector. So, its shape should be (n_samples,n_features) where n_samples is the number of documents in the dataset i.e. 11314 and the n_features is the vocabulary length since we are associating a number(tf-idf) with each unique word in the vocabulary"
   ]
  },
  {
   "cell_type": "code",
   "execution_count": null,
   "metadata": {
    "id": "_VKJhqatGWpV"
   },
   "outputs": [],
   "source": [
    "#Compute the vectors utilizing the 'tfidf' function created above to obtain a TF-IDF Encoded text corpus\n",
    "\n",
    "tf_idf_vec = tfidf(lines, dict_idx)\n",
    "print()"
   ]
  },
  {
   "cell_type": "code",
   "execution_count": null,
   "metadata": {},
   "outputs": [],
   "source": [
    "print(type(tf_idf_vec))\n",
    "\n",
    "tf_idf_vec = np.asarray(tf_idf_vec)\n",
    "\n",
    "print(tf_idf_vec.shape)\n",
    "# class : approximately 11004 or more list 99374 . Its 10.1G that needs to be get into the array depending upon the GPU it will show"
   ]
  },
  {
   "cell_type": "markdown",
   "metadata": {
    "id": "LE0UGUaSGb8I"
   },
   "source": [
    "## Multinomial Naive Bayes (10 Points)"
   ]
  },
  {
   "cell_type": "code",
   "execution_count": 31,
   "metadata": {
    "id": "yWYcxrdJGfDC"
   },
   "outputs": [
    {
     "data": {
      "text/plain": [
       "MultinomialNB(alpha=0.01)"
      ]
     },
     "execution_count": 31,
     "metadata": {},
     "output_type": "execute_result"
    }
   ],
   "source": [
    "#Fit a Multinomial Naive Bayes Model on our dataset\n",
    "\n",
    "model = MultinomialNB(alpha=.01)\n",
    "model.fit(tf_idf_vec, train_labels)\n"
   ]
  },
  {
   "cell_type": "code",
   "execution_count": 32,
   "metadata": {
    "id": "G6CiQB4qGfqH"
   },
   "outputs": [],
   "source": [
    "#Perform testing on the train dataset\n",
    "\n",
    "# Perform all pre-processing and feature extraction on the test data\n",
    "\n",
    "pred = model.predict(tf_idf_vec)"
   ]
  },
  {
   "cell_type": "code",
   "execution_count": null,
   "metadata": {
    "id": "yCLagGu6Gh6T"
   },
   "outputs": [],
   "source": [
    "#Calculate the F1 Score and the Accuracy\n",
    "\n",
    "F1_score = metrics.f1_score(train_labels, pred, average='macro')\n",
    "Accuracy = metrics.accuracy_score(train_labels, pred)\n",
    "print(\"F1 Score: \", F1_score)\n",
    "print(\"Accuracy: \", Accuracy)\n",
    "\n",
    "#F1 Score:  0.9853457835628475\n",
    "#Accuracy:  0.9834562952289263"
   ]
  },
  {
   "cell_type": "markdown",
   "metadata": {
    "id": "bbMRqJv5Gl2F"
   },
   "source": [
    "### Expected Output:\n",
    "F1 Score: 0.9533633964397735\n",
    "\n",
    "Accuracy: 0.9524482941488421"
   ]
  },
  {
   "cell_type": "markdown",
   "metadata": {
    "id": "AWRDuUqU-taV"
   },
   "source": [
    "Your accuracy does not have to be exactly the same. This is just to give you an estimate of what could you expect your accuracy to be around."
   ]
  },
  {
   "cell_type": "code",
   "execution_count": null,
   "metadata": {},
   "outputs": [],
   "source": [
    "# Testing of the  vectors\n",
    "\n",
    "test_lines = [] \n",
    "test_labels = []\n",
    " \n",
    "\n",
    "for i,(line,label) in enumerate(zip(test,test_label)):\n",
    "    \n",
    "    print('Doc {} of {}'.format(i+1,len(test)),end='\\r')\n",
    "    \n",
    "    expanded_words = []   \n",
    "    for word in line.split():\n",
    "        expanded_words.append(contractions.fix(word))\n",
    "    line = ' '.join(expanded_words)\n",
    "    \n",
    "    line = re.sub(r'\\W+', ' ', line)\n",
    "    line = re.sub(r'\\d+', '', line)\n",
    "    #print('Line after preprocessing is \\n', line)\n",
    "    if len(word_tokenize(line))!=0:\n",
    "        test_lines.append(word_tokenize(line))\n",
    "        test_labels.append(label)"
   ]
  },
  {
   "cell_type": "code",
   "execution_count": null,
   "metadata": {},
   "outputs": [],
   "source": [
    "test_tf_idf = tfidf(test_lines, dict_idx)\n",
    "print()"
   ]
  },
  {
   "cell_type": "code",
   "execution_count": null,
   "metadata": {},
   "outputs": [],
   "source": [
    "test_pred = model.predict(test_tf_idf)\n",
    "\n",
    "\n",
    "F1_score = metrics.f1_score(test_labels, test_pred, average='macro')\n",
    "Accuracy = metrics.accuracy_score(test_labels, test_pred)\n",
    "print(\"F1 Score: \", F1_score)\n",
    "print(\"Accuracy: \", Accuracy)\n",
    "\n",
    "#F1 Score:  0.6735684921245673\n",
    "#Accuracy:  0.7345783528492727"
   ]
  },
  {
   "cell_type": "markdown",
   "metadata": {
    "id": "UfMc8cz93Cc0"
   },
   "source": [
    "## Question 2 Vector Visualization"
   ]
  },
  {
   "cell_type": "markdown",
   "metadata": {
    "id": "70iwEeL23F7K"
   },
   "source": [
    "In this unsupervised learning task we are going to cluster wikipedia articles into groups using T-SNE visualization after vectorization."
   ]
  },
  {
   "cell_type": "markdown",
   "metadata": {
    "id": "UHx4YuxW36oM"
   },
   "source": [
    "### Collect articles from Wikipedia (10 points)\n",
    "\n",
    "In this section we will download articles from wikipedia and then vectorize them in the next step. You can select somewhat related topics or fetch the articles randomly. \n",
    "(Use dir() and help() functions or refer wikipedia documentation)\n",
    "You may also pick any other data source of your choice instead of wikipedia."
   ]
  },
  {
   "cell_type": "code",
   "execution_count": 27,
   "metadata": {
    "id": "jA419x6__mjg"
   },
   "outputs": [],
   "source": [
    "# install libraries\n",
    "#pip install wikipedia"
   ]
  },
  {
   "cell_type": "code",
   "execution_count": 43,
   "metadata": {
    "id": "vLMLk4K84Zbn"
   },
   "outputs": [],
   "source": [
    "import wikipedia\n",
    "from wikipedia.exceptions import WikipediaException\n",
    "import random\n",
    "import wikipedia\n",
    "from wikipedia.exceptions import WikipediaException\n",
    "import pandas as pd\n",
    "'''\n",
    " Generate a list of wikipedia article to cluster \n",
    " You can maintain a static list of titles or generate them randomly using wikipedia library\n",
    " Some topics include:\n",
    " [\"Northeastern Unversity\", \"Natural language processing\", \"Machine learning\", \"Quantum machine learning\", \"Artificial intelligence\", \"Data science\", \"Master in Data Science\", \n",
    " \"Bank of America\", \"Visa Inc.\", \"European Central Bank\", \"Bank\", \"Financial technology\",\"International Monetary Fund\", \n",
    " \"Basketball\", \"Swimming\", \"Tennis\", \"Football\", \"College Football\", \"Association Football\"]\n",
    "\n",
    " You can add more topics from different categories so that we have a diverse dataset to work with. \n",
    " Ex- About 3+ categories(groups), 3+ topics in each category, 3+ articles in each topic\n",
    "'''\n",
    "\n",
    "# selected topics\n",
    "topics = [\"Northeastern Unversity\", \"Natural language processing\", \"Machine learning\", \"Quantum machine learning\", \"Artificial intelligence\", \"Data science\", \"Master in Data Science\", \n",
    " \"Bank of America\", \"Visa Inc.\", \"European Central Bank\", \"Bank\", \"Financial technology\",\"International Monetary Fund\", \n",
    " \"Basketball\", \"Swimming\", \"Tennis\", \"Football\", \"College Football\", \"Association Football\"]\n",
    "\n",
    "# list of articles to be downloaded\n",
    "articles =[\"Football\", \"College Football\", \"Association Football\", \"International Football\",\"Basketball\", \n",
    "           \"Bank of America\", \"Visa Inc.\", \"Santander Bank\",\n",
    "           \"Natural language processing\", \"Machine learning\", \"Quantum machine learning\", \"Artificial intelligence\", \"Data science\",\n",
    "           \"Northeastern Unversity\", \"Boston University\", \"Suffolk University\", \"Harvard University\",\n",
    "           \"Facebook\", \"Twitter\", \"Instagram\", \"Snapchat\",\n",
    "           \"Mexico\", \"Canada\", \"Germany\", \"Poland\", \"India\",\n",
    "           \"Albert Einstein\", \"Marie Curie\", \"Nikola Tesla\", \"Charles Darwin\",\n",
    "           \"Cadbury\", \"The Hershey Company\", \"Nestle\", \"Ferrero Rocher\",\n",
    "            \"BWM\", \"Mercedes Benz\", \"volkswagen\", \"chevrolet\"]\n",
    "\n",
    "# download and store articles (summaries) in this variable\n",
    "data=[]\n",
    "art=[]\n",
    "#labels=[]    \n",
    "for article in articles:\n",
    "    try:\n",
    "        page_article = wikipedia.page(article)\n",
    "        data.append(page_article.content)\n",
    "        art.append(article)\n",
    "        #labels.append(i+1)\n",
    "    except WikipediaException:\n",
    "        continue        \n"
   ]
  },
  {
   "cell_type": "markdown",
   "metadata": {
    "id": "IgpRv7wQ4Dpm"
   },
   "source": [
    "### Cleaning the Data (5 points)\n",
    "In this step you will decide whether to clean the data or not. If you choose to clean, you may utilize the clean function from assignment 1.\n",
    "\n",
    "**Question:** Why are you (not) choosing to clean the data? Think in terms of whether cleaning data will help in the clustering or not.\n",
    "\n",
    "**Answer:** \n",
    "Data cleaning is very neceesary. This step removes umimportant  such as stop words , deimeters words that doesn't add vale to the model and can further reduce the dimentionality of the model . This also affects the clustering of the model too "
   ]
  },
  {
   "cell_type": "markdown",
   "metadata": {
    "id": "PnZpDKcaHTGq"
   },
   "source": [
    "**Answer(1-3 sentences):** "
   ]
  },
  {
   "cell_type": "code",
   "execution_count": 44,
   "metadata": {
    "id": "lNj53Pxr963N"
   },
   "outputs": [
    {
     "name": "stderr",
     "output_type": "stream",
     "text": [
      "[nltk_data] Downloading package punkt to\n",
      "[nltk_data]     C:\\Users\\akank\\AppData\\Roaming\\nltk_data...\n",
      "[nltk_data]   Package punkt is already up-to-date!\n",
      "[nltk_data] Downloading package stopwords to\n",
      "[nltk_data]     C:\\Users\\akank\\AppData\\Roaming\\nltk_data...\n",
      "[nltk_data]   Package stopwords is already up-to-date!\n"
     ]
    },
    {
     "data": {
      "text/plain": [
       "True"
      ]
     },
     "execution_count": 44,
     "metadata": {},
     "output_type": "execute_result"
    }
   ],
   "source": [
    "import re\n",
    "import nltk\n",
    "import string\n",
    "from nltk.corpus import stopwords\n",
    "from nltk.stem import PorterStemmer\n",
    "from nltk.tokenize import word_tokenize\n",
    "import contractions\n",
    "from bs4 import BeautifulSoup\n",
    "from nltk.stem import WordNetLemmatizer\n",
    "nltk.download('punkt')\n",
    "nltk.download('stopwords')"
   ]
  },
  {
   "cell_type": "code",
   "execution_count": 45,
   "metadata": {},
   "outputs": [],
   "source": [
    "# You can use Assignment 1's clean message function\n",
    "\n",
    "def clean_message(message):\n",
    "    '''\n",
    "    Input:\n",
    "        message: a string containing a message.\n",
    "    Output:\n",
    "        messages_cleaned: a list of words containing the processed message. \n",
    "\n",
    "    '''\n",
    "    #To remove punctuation\n",
    "    message_processed = \"\"\n",
    "    for word in message:\n",
    "        if word not in string.punctuation:\n",
    "            message_processed += \"\".join(word)\n",
    "            \n",
    "   #To make lower case\n",
    "    message_processed = message_processed.lower()\n",
    "    \n",
    "    #Tokenization\n",
    "    message_processed = word_tokenize(message_processed)\n",
    "    \n",
    "    #Stop word removal\n",
    "    message_clean= []\n",
    "    stopwords = nltk.corpus.stopwords.words('english')\n",
    "    for word in message_processed:\n",
    "         if word not in stopwords:\n",
    "            message_clean.append(word)\n",
    "    \n",
    "    #Stemming\n",
    "    messages_cleaned= []\n",
    "    porter_stemmer = PorterStemmer()\n",
    "    for word in message_processed:\n",
    "        messages_cleaned.append(porter_stemmer.stem(word))\n",
    "        \n",
    "    cleaned_message = \" \".join(messages_cleaned)\n",
    "        \n",
    "    return cleaned_message"
   ]
  },
  {
   "cell_type": "code",
   "execution_count": 46,
   "metadata": {},
   "outputs": [],
   "source": [
    "cleaned_data = []\n",
    "for dat in data:\n",
    "    cleaned_data.append(clean_message(dat))"
   ]
  },
  {
   "cell_type": "markdown",
   "metadata": {
    "id": "bvRZUpmq-DmT"
   },
   "source": [
    "### Vectorize the articles (5 points)\n",
    "\n",
    "In this step, we will vectorize the text data. You can use TfidfVectorizer() or countVectorizer() from sklearn library."
   ]
  },
  {
   "cell_type": "code",
   "execution_count": 47,
   "metadata": {
    "id": "gJk8YY89-OU4"
   },
   "outputs": [],
   "source": [
    "from sklearn.feature_extraction.text import TfidfVectorizer\n",
    "vectors = TfidfVectorizer(stop_words={'english'})\n",
    "text_vectors = vectors.fit_transform(cleaned_data)"
   ]
  },
  {
   "cell_type": "code",
   "execution_count": 48,
   "metadata": {
    "id": "DAIGlqEuINWA"
   },
   "outputs": [
    {
     "name": "stdout",
     "output_type": "stream",
     "text": [
      "(29, 17612)\n"
     ]
    }
   ],
   "source": [
    "print(text_vectors.shape)"
   ]
  },
  {
   "cell_type": "code",
   "execution_count": null,
   "metadata": {},
   "outputs": [],
   "source": []
  },
  {
   "cell_type": "markdown",
   "metadata": {
    "id": "PKLvrKHRQaQq"
   },
   "source": [
    "### Sample Output:\n",
    "(36, 1552)"
   ]
  },
  {
   "cell_type": "markdown",
   "metadata": {
    "id": "M5ZrGrzD_G8d"
   },
   "source": [
    "### Plot Articles (10 points)\n",
    "Now we will try to verify the groups of articles using T-SNE from sklearn library."
   ]
  },
  {
   "cell_type": "code",
   "execution_count": 49,
   "metadata": {
    "id": "SjcuZBOe-oZq"
   },
   "outputs": [],
   "source": [
    "from sklearn.manifold import TSNE\n",
    "#give no components , inti,.fit transform(input x) \n",
    "model = TSNE(random_state=1,n_components=2).fit_transform(text_vectors)\n",
    "# call TSNE() to fit the data"
   ]
  },
  {
   "cell_type": "code",
   "execution_count": 50,
   "metadata": {},
   "outputs": [
    {
     "name": "stdout",
     "output_type": "stream",
     "text": [
      "(29, 2)\n"
     ]
    }
   ],
   "source": [
    "print(model.shape)\n",
    "model_1 = model[:,0]\n",
    "model_2 = model[:,1]\n",
    "label=[]"
   ]
  },
  {
   "cell_type": "markdown",
   "metadata": {
    "id": "iCY_blxjO1bs"
   },
   "source": [
    "Plot and annotate the points with different markers for different expected groups."
   ]
  },
  {
   "cell_type": "code",
   "execution_count": 51,
   "metadata": {
    "colab": {
     "base_uri": "https://localhost:8080/",
     "height": 483
    },
    "id": "3ODUA1Vf-rRd",
    "outputId": "325b5db4-60d1-4907-a487-40893e256ee1"
   },
   "outputs": [
    {
     "data": {
      "text/plain": [
       "<AxesSubplot:>"
      ]
     },
     "execution_count": 51,
     "metadata": {},
     "output_type": "execute_result"
    },
    {
     "data": {
      "image/png": "[encoded data removed]",
      "text/plain": [
       "<Figure size 432x288 with 1 Axes>"
      ]
     },
     "metadata": {
      "needs_background": "light"
     },
     "output_type": "display_data"
    }
   ],
   "source": [
    "import matplotlib.pyplot as plt\n",
    "import seaborn as sns\n",
    "\n",
    "# get a figure handle\n",
    "# the figure gives the error because of the below lines . It is some how not taking the correct values of the label. hence the clustering is happening but \n",
    "#its not getying divided into the colors . May be it is beacuse of the gpu problem that my programm is not taking it . \n",
    "#fig,ax = plt.subplots(figsize=(10,8))\n",
    "#sns.scatterplot(x=model_1, y=model_2, hue=labels,\n",
    "#                palette=sns.color_palette(\"hls\", num_clusters)).set(title=\"Wiki Article data T-SNE projection\") \n",
    "sns.scatterplot(x=model_1, y=model_2)\n"
   ]
  },
  {
   "cell_type": "markdown",
   "metadata": {
    "id": "dYcEi1EC_UGO"
   },
   "source": [
    "**Question:** Comment about the categorizion done by T-SNE. Do the articles of related topics cluster together? (5 points)\n",
    "yes they do cluster together because of the tsne cluster function that has been used properly . also the cleanning of the data affected the function and training of  the vector of the text_vectors very well . "
   ]
  },
  {
   "cell_type": "markdown",
   "metadata": {
    "id": "U2xrJddIpSsd"
   },
   "source": [
    "# Question 3 Building Neural Networks\n",
    "\n",
    "### We are gonna use Emotions Dataset for this task. We need to classify the given text into different kind of emotions like happy,sad,anger etc.., \n",
    "\n",
    "### We are providing train.txt and val.txt files along with this notebook. "
   ]
  },
  {
   "cell_type": "markdown",
   "metadata": {
    "id": "NJYmVbkvphgX"
   },
   "source": [
    "### Library Imports and Utility functions"
   ]
  },
  {
   "cell_type": "code",
   "execution_count": 1,
   "metadata": {
    "id": "BO-HU-7uorVX"
   },
   "outputs": [
    {
     "name": "stderr",
     "output_type": "stream",
     "text": [
      "[nltk_data] Downloading package stopwords to\n",
      "[nltk_data]     C:\\Users\\akank\\AppData\\Roaming\\nltk_data...\n",
      "[nltk_data]   Package stopwords is already up-to-date!\n",
      "[nltk_data] Downloading package wordnet to\n",
      "[nltk_data]     C:\\Users\\akank\\AppData\\Roaming\\nltk_data...\n",
      "[nltk_data]   Package wordnet is already up-to-date!\n",
      "[nltk_data] Downloading package words to\n",
      "[nltk_data]     C:\\Users\\akank\\AppData\\Roaming\\nltk_data...\n",
      "[nltk_data]   Package words is already up-to-date!\n"
     ]
    }
   ],
   "source": [
    "from sklearn.feature_extraction.text import CountVectorizer\n",
    "from sklearn.feature_extraction.text import TfidfVectorizer\n",
    "import nltk\n",
    "from nltk.corpus import stopwords\n",
    "from nltk.stem import PorterStemmer\n",
    "from nltk.tokenize import word_tokenize\n",
    "import string\n",
    "import pandas as pd\n",
    "import re\n",
    "import nltk\n",
    "nltk.download('stopwords')\n",
    "nltk.download('wordnet')\n",
    "nltk.download('words')\n",
    "\n",
    "stopword = nltk.corpus.stopwords.words('english')\n",
    "wn = nltk.WordNetLemmatizer()\n",
    "ps = nltk.PorterStemmer()\n",
    "words = set(nltk.corpus.words.words())\n",
    "\n",
    "\n",
    "def clean_text(text):\n",
    "  # From the last assignment\n",
    "    text = text.lower()\n",
    "    text = re.sub(r\"http\\S+\", \"\", text)\n",
    "    text = re.sub(r\"www.\\S+\", \"\", text)\n",
    "    text_links_removed = \"\".join([char for char in text if char not in string.punctuation])\n",
    "    text_cleaned = \" \".join([word for word in re.split('\\W+', text_links_removed)\n",
    "        if word not in stopword])\n",
    "    text = \" \".join([wn.lemmatize(word) for word in re.split('\\W+', text_cleaned)])\n",
    "    return text"
   ]
  },
  {
   "cell_type": "markdown",
   "metadata": {
    "id": "B0D5wVjZw7s0"
   },
   "source": [
    "### Q) Importing the datasets and do the necessary cleaning and convert the text into the vectors which are mentioned in the below code blocks. (10 points)"
   ]
  },
  {
   "cell_type": "code",
   "execution_count": 5,
   "metadata": {
    "id": "MOMhmIlGprK9"
   },
   "outputs": [
    {
     "name": "stdout",
     "output_type": "stream",
     "text": [
      "(16000, 2)\n",
      "(2000, 2)\n"
     ]
    }
   ],
   "source": [
    "# Import the train.txt and val.txt file into pandas dataframe format \n",
    "\n",
    "# train \n",
    "Xtrain = pd.read_csv('train.txt', sep=';',header=None)\n",
    "\n",
    "# validation\n",
    "Xval = pd.read_csv('val.txt', sep=';',header=None)\n",
    "\n",
    "# and printout the train.shape and validation.shape \n",
    "print(Xtrain.shape)\n",
    "print(Xval.shape)\n",
    "# expected shape of train dataset is (16000,2) and validation dataset is (2000,2)"
   ]
  },
  {
   "cell_type": "code",
   "execution_count": 6,
   "metadata": {},
   "outputs": [
    {
     "data": {
      "text/html": [
       "<div>\n",
       "<style scoped>\n",
       "    .dataframe tbody tr th:only-of-type {\n",
       "        vertical-align: middle;\n",
       "    }\n",
       "\n",
       "    .dataframe tbody tr th {\n",
       "        vertical-align: top;\n",
       "    }\n",
       "\n",
       "    .dataframe thead th {\n",
       "        text-align: right;\n",
       "    }\n",
       "</style>\n",
       "<table border=\"1\" class=\"dataframe\">\n",
       "  <thead>\n",
       "    <tr style=\"text-align: right;\">\n",
       "      <th></th>\n",
       "      <th>0</th>\n",
       "      <th>1</th>\n",
       "    </tr>\n",
       "  </thead>\n",
       "  <tbody>\n",
       "    <tr>\n",
       "      <th>0</th>\n",
       "      <td>im feeling quite sad and sorry for myself but ...</td>\n",
       "      <td>sadness</td>\n",
       "    </tr>\n",
       "    <tr>\n",
       "      <th>1</th>\n",
       "      <td>i feel like i am still looking at a blank canv...</td>\n",
       "      <td>sadness</td>\n",
       "    </tr>\n",
       "    <tr>\n",
       "      <th>2</th>\n",
       "      <td>i feel like a faithful servant</td>\n",
       "      <td>love</td>\n",
       "    </tr>\n",
       "    <tr>\n",
       "      <th>3</th>\n",
       "      <td>i am just feeling cranky and blue</td>\n",
       "      <td>anger</td>\n",
       "    </tr>\n",
       "    <tr>\n",
       "      <th>4</th>\n",
       "      <td>i can have for a treat or if i am feeling festive</td>\n",
       "      <td>joy</td>\n",
       "    </tr>\n",
       "    <tr>\n",
       "      <th>...</th>\n",
       "      <td>...</td>\n",
       "      <td>...</td>\n",
       "    </tr>\n",
       "    <tr>\n",
       "      <th>1995</th>\n",
       "      <td>im having ssa examination tomorrow in the morn...</td>\n",
       "      <td>sadness</td>\n",
       "    </tr>\n",
       "    <tr>\n",
       "      <th>1996</th>\n",
       "      <td>i constantly worry about their fight against n...</td>\n",
       "      <td>joy</td>\n",
       "    </tr>\n",
       "    <tr>\n",
       "      <th>1997</th>\n",
       "      <td>i feel its important to share this info for th...</td>\n",
       "      <td>joy</td>\n",
       "    </tr>\n",
       "    <tr>\n",
       "      <th>1998</th>\n",
       "      <td>i truly feel that if you are passionate enough...</td>\n",
       "      <td>joy</td>\n",
       "    </tr>\n",
       "    <tr>\n",
       "      <th>1999</th>\n",
       "      <td>i feel like i just wanna buy any cute make up ...</td>\n",
       "      <td>joy</td>\n",
       "    </tr>\n",
       "  </tbody>\n",
       "</table>\n",
       "<p>2000 rows × 2 columns</p>\n",
       "</div>"
      ],
      "text/plain": [
       "                                                      0        1\n",
       "0     im feeling quite sad and sorry for myself but ...  sadness\n",
       "1     i feel like i am still looking at a blank canv...  sadness\n",
       "2                        i feel like a faithful servant     love\n",
       "3                     i am just feeling cranky and blue    anger\n",
       "4     i can have for a treat or if i am feeling festive      joy\n",
       "...                                                 ...      ...\n",
       "1995  im having ssa examination tomorrow in the morn...  sadness\n",
       "1996  i constantly worry about their fight against n...      joy\n",
       "1997  i feel its important to share this info for th...      joy\n",
       "1998  i truly feel that if you are passionate enough...      joy\n",
       "1999  i feel like i just wanna buy any cute make up ...      joy\n",
       "\n",
       "[2000 rows x 2 columns]"
      ]
     },
     "execution_count": 6,
     "metadata": {},
     "output_type": "execute_result"
    }
   ],
   "source": [
    "Xtrain.sort_index()\n",
    "Xval.sort_index()"
   ]
  },
  {
   "cell_type": "code",
   "execution_count": 12,
   "metadata": {},
   "outputs": [
    {
     "name": "stdout",
     "output_type": "stream",
     "text": [
      "<class 'numpy.ndarray'>\n",
      "<class 'numpy.ndarray'>\n",
      "<class 'numpy.ndarray'>\n",
      "<class 'numpy.ndarray'>\n"
     ]
    }
   ],
   "source": [
    "import numpy as np\n",
    "\n",
    "print(type(Xtrain))\n",
    "print(type(Xval))\n",
    "\n",
    "Xtrain = np.asarray(Xtrain)\n",
    "Xval = np.asarray(Xval)\n",
    "\n",
    "print(type(Xtrain))\n",
    "print(type(Xval))"
   ]
  },
  {
   "cell_type": "code",
   "execution_count": 13,
   "metadata": {},
   "outputs": [],
   "source": [
    "# convert the labels into one hot encoding form\n",
    "from sklearn.preprocessing import OneHotEncoder\n",
    "\n",
    "enc = OneHotEncoder(handle_unknown='ignore',sparse=False)\n",
    "Xtrainlabels = enc.fit_transform(Xtrain[:,1].reshape(-1,1))"
   ]
  },
  {
   "cell_type": "code",
   "execution_count": 17,
   "metadata": {
    "id": "PS7K3p7AqAI8"
   },
   "outputs": [],
   "source": [
    "# clean the text in the train and validation dataframes using the clean_text function provided above\n",
    "train = [clean_text(sentence) for sentence in Xtrain[:,0]]\n",
    "val = [clean_text(sentence) for sentence in Xval[:,0]]"
   ]
  },
  {
   "cell_type": "code",
   "execution_count": 15,
   "metadata": {},
   "outputs": [],
   "source": [
    "from sklearn.feature_extraction.text import CountVectorizer\n"
   ]
  },
  {
   "cell_type": "code",
   "execution_count": 18,
   "metadata": {
    "id": "GxZC6RIjq3bu"
   },
   "outputs": [],
   "source": [
    "# initialise count vectorizer from sklearn module with default parameter\n",
    "vectorizer = CountVectorizer()\n",
    "\n",
    "# fit on train dataset and transform both train and validation dataset\n",
    "Xtraincv = vectorizer.fit_transform(train)\n",
    "Xvalcv = vectorizer.transform(val)"
   ]
  },
  {
   "cell_type": "code",
   "execution_count": 19,
   "metadata": {},
   "outputs": [
    {
     "name": "stdout",
     "output_type": "stream",
     "text": [
      "(16000, 13457)\n",
      "(2000, 13457)\n"
     ]
    }
   ],
   "source": [
    "print(Xtraincv.shape)\n",
    "print(Xvalcv.shape)"
   ]
  },
  {
   "cell_type": "code",
   "execution_count": 20,
   "metadata": {
    "id": "85nuazEzq3YT"
   },
   "outputs": [],
   "source": [
    "# initialise tfidf vectorizer from sklearn module with default parameter\n",
    "vectorizer = TfidfVectorizer()\n",
    "\n",
    "# fit on train dataset and transform both train and validation dataset\n",
    "Xtraintfidf = vectorizer.fit_transform(train)\n",
    "Xvaltfidf = vectorizer.transform(val)"
   ]
  },
  {
   "cell_type": "code",
   "execution_count": 21,
   "metadata": {
    "id": "jgHWAuG-q3Vm"
   },
   "outputs": [],
   "source": [
    "# initialise label encoder from sklearn module\n",
    "from sklearn import preprocessing\n",
    "\n",
    "# fit on train labels and transform both train and validation labels\n",
    "le = preprocessing.LabelEncoder()\n",
    "Xtrain[:,1] = le.fit_transform(Xtrain[:,1])"
   ]
  },
  {
   "cell_type": "code",
   "execution_count": 25,
   "metadata": {
    "id": "Wjdye0tvq3So"
   },
   "outputs": [],
   "source": [
    "# convert the labels into one hot encoding form\n",
    "from sklearn.preprocessing import OneHotEncoder\n",
    "\n",
    "enc = OneHotEncoder(handle_unknown='ignore',sparse=False)\n",
    "Xtrainlabels = enc.fit_transform(Xtrain[:,1].reshape(-1,1))\n",
    "Xvallabels = enc.fit_transform(Xval[:,1].reshape(-1,1))"
   ]
  },
  {
   "cell_type": "code",
   "execution_count": 26,
   "metadata": {},
   "outputs": [
    {
     "name": "stdout",
     "output_type": "stream",
     "text": [
      "(16000, 6)\n",
      "(2000, 6)\n"
     ]
    }
   ],
   "source": [
    "print(Xtrainlabels.shape)\n",
    "print(Xvallabels.shape)"
   ]
  },
  {
   "cell_type": "code",
   "execution_count": 28,
   "metadata": {},
   "outputs": [
    {
     "name": "stdout",
     "output_type": "stream",
     "text": [
      "Number of classes 6\n"
     ]
    }
   ],
   "source": [
    "noofclasses = Xtrainlabels.shape[1]\n",
    "print('Number of classes', noofclasses)"
   ]
  },
  {
   "cell_type": "markdown",
   "metadata": {
    "id": "xjsiH8YOw-Da"
   },
   "source": [
    "### Q) Build the neural networks using tensorflow keras by following the below instructions. Evaluate the model on different metrics and comment your observations. (15 points)"
   ]
  },
  {
   "cell_type": "code",
   "execution_count": null,
   "metadata": {
    "id": "AQg14bkTq3KB"
   },
   "outputs": [],
   "source": [
    "import tensorflow as tf\n",
    "\n",
    "tf.random.set_seed(42)\n",
    "\n",
    "# complete this linear model in tensorflow\n",
    "def build_model(X):\n",
    "\n",
    "  # layer 1 : input layer\n",
    "  inputs = tf.keras.Input((X.shape[1],))\n",
    "\n",
    "  # layer 2 : add the dense layer with 2048 units and relu activation\n",
    "  x = tf.keras.layers.Dense(2048, activation=tf.nn.relu)(inputs)\n",
    "\n",
    "  # layer 3 : add the dropout layer with dropout rate of 0.5\n",
    "  x = tf.keras.layers.Dropout(0.5)(x)\n",
    "\n",
    "  # layer 4 : add the dense layer with 1024 units with tanh activation and with l2 regularization (for the activation or the kernel weights or bias?)\n",
    "  x = tf.keras.layers.Dense(1024, activation=tf.nn.tanh, kernel_regularizer='l2')(x)\n",
    "\n",
    "  # layer 5 : add the dropout layer with dropout rate of 0.5\n",
    "  x = tf.keras.layers.Dropout(0.5)(x)\n",
    "\n",
    "  # layer 6 : add the dense layer with 512 units with tanh activation and with l2 regularization\n",
    "  x = tf.keras.layers.Dense(512, activation=tf.nn.tanh, kernel_regularizer='l2')(x)\n",
    "\n",
    "  # layer 7 : add the dropout layer with dropout rate of 0.5\n",
    "  x = tf.keras.layers.Dropout(0.5)(x)\n",
    "\n",
    "  # layer 8 : add the dense layer with 256 units with tanh activation and with l2 regularization\n",
    "  x = tf.keras.layers.Dense(256, activation=tf.nn.tanh, kernel_regularizer='l2')(x)\n",
    "\n",
    "  # layer 9 : add the dropout layer with dropout rate of 0.5\n",
    "  x = tf.keras.layers.Dropout(0.5)(x)\n",
    "\n",
    "  # layer 10 : add the dense layer with 128 units with tanh activation and with l2 regularization\n",
    "  x = tf.keras.layers.Dense(128, activation=tf.nn.tanh, kernel_regularizer='l2')(x)\n",
    "\n",
    "  # layer 11 : add the dropout layer with dropout rate of 0.5\n",
    "  x = tf.keras.layers.Dropout(0.5)(x)\n",
    "\n",
    "  # layer 12 : output layer with units equal to number of classes and activation as softmax\n",
    "  outputs = tf.keras.layers.Dense(n_classes, activation=tf.nn.softmax)(x)\n",
    "\n",
    "  # use loss as categorical crossentropy, optimizer as rmsprop and evaluate model on auc,precision,recall,accuracy\n",
    "  model = tf.keras.Model(inputs,outputs,name='EmotionDetector') \n",
    "\n",
    "return model\n"
   ]
  },
  {
   "cell_type": "code",
   "execution_count": 179,
   "metadata": {
    "id": "Q71CC1pIsx0O"
   },
   "outputs": [],
   "source": [
    "# call the build_model function and initialize the model\n",
    "#print(X_train_cv.shape[1])\n",
    "model = build_model(Xtraincv)"
   ]
  },
  {
   "cell_type": "code",
   "execution_count": 180,
   "metadata": {},
   "outputs": [
    {
     "name": "stdout",
     "output_type": "stream",
     "text": [
      "Model: \"EmotionDetector\"\n",
      "_________________________________________________________________\n",
      " Layer (type)                Output Shape              Param #   \n",
      "=================================================================\n",
      " input_5 (InputLayer)        [(None, 13457)]           0         \n",
      "                                                                 \n",
      " dense_24 (Dense)            (None, 2048)              27561984  \n",
      "                                                                 \n",
      " dropout_20 (Dropout)        (None, 2048)              0         \n",
      "                                                                 \n",
      " dense_25 (Dense)            (None, 1024)              2098176   \n",
      "                                                                 \n",
      " dropout_21 (Dropout)        (None, 1024)              0         \n",
      "                                                                 \n",
      " dense_26 (Dense)            (None, 512)               524800    \n",
      "                                                                 \n",
      " dropout_22 (Dropout)        (None, 512)               0         \n",
      "                                                                 \n",
      " dense_27 (Dense)            (None, 256)               131328    \n",
      "                                                                 \n",
      " dropout_23 (Dropout)        (None, 256)               0         \n",
      "                                                                 \n",
      " dense_28 (Dense)            (None, 128)               32896     \n",
      "                                                                 \n",
      " dropout_24 (Dropout)        (None, 128)               0         \n",
      "                                                                 \n",
      " dense_29 (Dense)            (None, 6)                 774       \n",
      "                                                                 \n",
      "=================================================================\n",
      "Total params: 30,349,958\n",
      "Trainable params: 30,349,958\n",
      "Non-trainable params: 0\n",
      "_________________________________________________________________\n",
      "None\n"
     ]
    }
   ],
   "source": [
    "print(model.summary())"
   ]
  },
  {
   "cell_type": "code",
   "execution_count": null,
   "metadata": {
    "id": "KyAZNgsBsxwo"
   },
   "outputs": [],
   "source": [
    "\n",
    "# train and validate the model on the count vectors of text which we have created initially for 10 epochs, \n",
    "# adjust batch size according to your computation power (suggestion use : 8)\n",
    "\n",
    "model.compile(optimizer='rmsprop', loss='categorical_crossentropy', metrics=['acc', tf.keras.metrics.Precision(), tf.keras.metrics.Recall(), tf.keras.metrics.AUC()])\n",
    "print(Xtraincv.shape)\n",
    "print(Xtrainlabels.shape)\n",
    "history = model.fit(Xtraincv.toarray(),Xtrainlabels, validation_data=(Xvalcv.toarray(),Xvallabels),\n",
    "                    batch_size=64,epochs=10)\n",
    "print(history.history.keys())\n",
    "\n",
    "# Epoch gets printed as\n",
    "#16000,13547\n",
    "#16000,6"
   ]
  },
  {
   "cell_type": "code",
   "execution_count": null,
   "metadata": {
    "id": "nS02IwLCsxmG"
   },
   "outputs": [
    {
     "name": "stdout",
     "output_type": "stream",
     "text": [
      "{'loss': [12.213534355163574, 8.102182388305664, 6.230099201202393, 5.04818058013916, 4.31946325302124, 3.7796614170074463, 3.3344130516052246, 3.0586626529693604, 2.705185890197754, 2.500269889831543], 'acc': [1.0, 1.0, 1.0, 1.0, 1.0, 1.0, 1.0, 1.0, 1.0, 1.0], 'precision': [1.0, 1.0, 1.0, 1.0, 1.0, 1.0, 1.0, 1.0, 1.0, 1.0], 'recall': [1.0, 1.0, 1.0, 1.0, 1.0, 1.0, 1.0, 1.0, 1.0, 1.0], 'auc': [1.0, 1.0, 1.0, 0.9999999403953552, 1.0, 1.0, 0.9999999403953552, 0.9999999403953552, 0.9999999403953552, 1.0], 'val_loss': [10.49362850189209, 8.521388053894043, 7.274882793426514, 6.507236957550049, 5.6523261070251465, 5.324667930603027, 4.874715805053711, 4.487972259521484, 4.4496941566467285, 4.4003005027771], 'val_acc': [0.2857142984867096, 0.2637362778186798, 0.2747252881526947, 0.2637362778186798, 0.16483516991138458, 0.2637362778186798, 0.2527472674846649, 0.2637362778186798, 0.2637362778186798, 0.2637362778186798], 'val_precision': [0.38461539149284363, 0.2142857164144516, 0.26865673065185547, 0.26966291666030884, 0.0, 0.2753623127937317, 0.7142857313156128, 0.3333333432674408, 0.2586206793785095, 0.27419355511665344], 'val_recall': [0.05494505539536476, 0.16483516991138458, 0.19780220091342926, 0.2637362778186798, 0.0, 0.20879121124744415, 0.05494505539536476, 0.04395604506134987, 0.16483516991138458, 0.18681319057941437], 'val_auc': [0.5349353551864624, 0.5079579949378967, 0.5342591404914856, 0.6055307388305664, 0.5166404843330383, 0.5962202548980713, 0.577092170715332, 0.641842782497406, 0.5865113735198975, 0.5369157791137695]}\n"
     ]
    },
    {
     "data": {
      "image/png": "[encoded data removed]",
      "text/plain": [
       "<Figure size 432x288 with 1 Axes>"
      ]
     },
     "metadata": {
      "needs_background": "light"
     },
     "output_type": "display_data"
    }
   ],
   "source": [
    "# plot train loss vs val loss, train auc vs val auc, train recall vs val recall, train precision vs val precision and train accuracy vs val accuracy and comment your observations\n",
    "import matplotlib.pyplot as plt\n",
    "\n",
    "# summarize history for accuracy\n",
    "plt.plot(history.history['acc'])\n",
    "plt.plot(history.history['val_acc'])\n",
    "plt.title('model accuracy')\n",
    "plt.ylabel('accuracy')\n",
    "plt.xlabel('epoch')\n",
    "plt.legend(['train', 'val'], loc='upper left')\n",
    "plt.show()"
   ]
  },
  {
   "cell_type": "code",
   "execution_count": null,
   "metadata": {},
   "outputs": [
    {
     "data": {
      "image/png": "[encoded data removed]",
      "text/plain": [
       "<Figure size 432x288 with 1 Axes>"
      ]
     },
     "metadata": {
      "needs_background": "light"
     },
     "output_type": "display_data"
    }
   ],
   "source": [
    "# summarize history for accuracy\n",
    "plt.plot(history.history['loss'])\n",
    "plt.plot(history.history['val_loss'])\n",
    "plt.title('model loss')\n",
    "plt.ylabel('loss')\n",
    "plt.xlabel('epoch')\n",
    "plt.legend(['train', 'val'], loc='upper left')\n",
    "plt.show()"
   ]
  },
  {
   "cell_type": "code",
   "execution_count": null,
   "metadata": {},
   "outputs": [
    {
     "data": {
      "image/png": "[encoded data removed]",
      "text/plain": [
       "<Figure size 432x288 with 1 Axes>"
      ]
     },
     "metadata": {
      "needs_background": "light"
     },
     "output_type": "display_data"
    }
   ],
   "source": [
    "# summarize history for accuracy\n",
    "plt.plot(history.history['precision'])\n",
    "plt.plot(history.history['val_precision'])\n",
    "plt.title('model precision')\n",
    "plt.ylabel('precision')\n",
    "plt.xlabel('epoch')\n",
    "plt.legend(['train', 'val'], loc='upper left')\n",
    "plt.show()"
   ]
  },
  {
   "cell_type": "code",
   "execution_count": null,
   "metadata": {},
   "outputs": [
    {
     "data": {
      "image/png": "[encoded data removed]",
      "text/plain": [
       "<Figure size 432x288 with 1 Axes>"
      ]
     },
     "metadata": {
      "needs_background": "light"
     },
     "output_type": "display_data"
    }
   ],
   "source": [
    "# summarize history for accuracy\n",
    "plt.plot(history.history['recall'])\n",
    "plt.plot(history.history['val_recall'])\n",
    "plt.title('model recall')\n",
    "plt.ylabel('recall')\n",
    "plt.xlabel('epoch')\n",
    "plt.legend(['train', 'val'], loc='upper left')\n",
    "plt.show()"
   ]
  },
  {
   "cell_type": "code",
   "execution_count": null,
   "metadata": {},
   "outputs": [
    {
     "data": {
      "image/png": "[encoded data removed]",
      "text/plain": [
       "<Figure size 432x288 with 1 Axes>"
      ]
     },
     "metadata": {
      "needs_background": "light"
     },
     "output_type": "display_data"
    }
   ],
   "source": [
    "# summarize history for accuracy\n",
    "plt.plot(history.history['auc'])\n",
    "plt.plot(history.history['val_auc'])\n",
    "plt.title('model auc')\n",
    "plt.ylabel('auc')\n",
    "plt.xlabel('epoch')\n",
    "plt.legend(['train', 'val'], loc='upper left')\n",
    "plt.show()"
   ]
  },
  {
   "cell_type": "code",
   "execution_count": 45,
   "metadata": {
    "id": "6FHdCcp7wXyw"
   },
   "outputs": [],
   "source": [
    "# again call the build_model function and initialize the model\n",
    "modeltfidf = build_model(Xtraintfidf)"
   ]
  },
  {
   "cell_type": "code",
   "execution_count": 47,
   "metadata": {
    "id": "k4gB80M6wXvV"
   },
   "outputs": [
    {
     "name": "stdout",
     "output_type": "stream",
     "text": [
      "Epoch 1/10\n",
      "3/3 [==============================] - 3s 384ms/step - loss: 25.8040 - acc: 0.5556 - precision_3: 0.0000e+00 - recall_3: 0.0000e+00 - auc_3: 0.6802 - val_loss: 22.4836 - val_acc: 0.2527 - val_precision_3: 0.0000e+00 - val_recall_3: 0.0000e+00 - val_auc_3: 0.6122\n",
      "Epoch 2/10\n",
      "3/3 [==============================] - 0s 97ms/step - loss: 21.9555 - acc: 0.3333 - precision_3: 0.0000e+00 - recall_3: 0.0000e+00 - auc_3: 0.7025 - val_loss: 20.8263 - val_acc: 0.2637 - val_precision_3: 0.0000e+00 - val_recall_3: 0.0000e+00 - val_auc_3: 0.5320\n",
      "Epoch 3/10\n",
      "3/3 [==============================] - 0s 99ms/step - loss: 20.3913 - acc: 0.5556 - precision_3: 1.0000 - recall_3: 0.1111 - auc_3: 0.7012 - val_loss: 19.7022 - val_acc: 0.2637 - val_precision_3: 0.0000e+00 - val_recall_3: 0.0000e+00 - val_auc_3: 0.5685\n",
      "Epoch 4/10\n",
      "3/3 [==============================] - 0s 126ms/step - loss: 19.4334 - acc: 0.3333 - precision_3: 1.0000 - recall_3: 0.2222 - auc_3: 0.6543 - val_loss: 19.0347 - val_acc: 0.1868 - val_precision_3: 1.0000 - val_recall_3: 0.0220 - val_auc_3: 0.5127\n",
      "Epoch 5/10\n",
      "3/3 [==============================] - 0s 91ms/step - loss: 18.4839 - acc: 0.2222 - precision_3: 0.0000e+00 - recall_3: 0.0000e+00 - auc_3: 0.7222 - val_loss: 18.5372 - val_acc: 0.2637 - val_precision_3: 0.2278 - val_recall_3: 0.1978 - val_auc_3: 0.5353\n",
      "Epoch 6/10\n",
      "3/3 [==============================] - 0s 94ms/step - loss: 17.1818 - acc: 0.6667 - precision_3: 1.0000 - recall_3: 0.3333 - auc_3: 0.9506 - val_loss: 17.6949 - val_acc: 0.2418 - val_precision_3: 0.0000e+00 - val_recall_3: 0.0000e+00 - val_auc_3: 0.5203\n",
      "Epoch 7/10\n",
      "3/3 [==============================] - 0s 129ms/step - loss: 16.7058 - acc: 0.7778 - precision_3: 1.0000 - recall_3: 0.5556 - auc_3: 0.9086 - val_loss: 17.2299 - val_acc: 0.2637 - val_precision_3: 0.2727 - val_recall_3: 0.1319 - val_auc_3: 0.5554\n",
      "Epoch 8/10\n",
      "3/3 [==============================] - 0s 87ms/step - loss: 15.6753 - acc: 1.0000 - precision_3: 1.0000 - recall_3: 0.6667 - auc_3: 1.0000 - val_loss: 16.8682 - val_acc: 0.2637 - val_precision_3: 0.2468 - val_recall_3: 0.2088 - val_auc_3: 0.5345\n",
      "Epoch 9/10\n",
      "3/3 [==============================] - 0s 84ms/step - loss: 15.0009 - acc: 0.8889 - precision_3: 1.0000 - recall_3: 0.8889 - auc_3: 0.9988 - val_loss: 16.3715 - val_acc: 0.2637 - val_precision_3: 0.2459 - val_recall_3: 0.1648 - val_auc_3: 0.4961\n",
      "Epoch 10/10\n",
      "3/3 [==============================] - 0s 96ms/step - loss: 14.2989 - acc: 1.0000 - precision_3: 1.0000 - recall_3: 0.8889 - auc_3: 1.0000 - val_loss: 15.8673 - val_acc: 0.2747 - val_precision_3: 0.2462 - val_recall_3: 0.1758 - val_auc_3: 0.5102\n"
     ]
    }
   ],
   "source": [
    "# train and validate the model on the tfidf vectors of text which we have created initially for 10 epochs, \n",
    "# adjust batch size according to your computation power (suggestion use : 8)\n",
    "modeltfidf.compile(optimizer='rmsprop', loss='categorical_crossentropy', \n",
    "metrics=['acc', tf.keras.metrics.Precision(), tf.keras.metrics.Recall(), tf.keras.metrics.AUC()])\n",
    "\n",
    "history = modeltfidf.fit(Xtraincv.toarray(),Xtrainlabels, validation_data=(Xvalcv.toarray(),Xvallabels),\n",
    "                    batch_size=64,epochs=10)"
   ]
  },
  {
   "cell_type": "code",
   "execution_count": 49,
   "metadata": {},
   "outputs": [
    {
     "name": "stdout",
     "output_type": "stream",
     "text": [
      "dict_keys(['loss', 'acc', 'precision_3', 'recall_3', 'auc_3', 'val_loss', 'val_acc', 'val_precision_3', 'val_recall_3', 'val_auc_3'])\n"
     ]
    }
   ],
   "source": [
    "print(history.history.keys())"
   ]
  },
  {
   "cell_type": "code",
   "execution_count": 50,
   "metadata": {
    "id": "EsnEOHXRwXkv"
   },
   "outputs": [
    {
     "data": {
      "image/png": "[encoded data removed]",
      "text/plain": [
       "<Figure size 432x288 with 1 Axes>"
      ]
     },
     "metadata": {
      "needs_background": "light"
     },
     "output_type": "display_data"
    }
   ],
   "source": [
    "# plot train loss vs val loss, train auc vs val auc, train recall vs val recall, train precision vs val precision and train accuracy vs val accuracy and comment your observations\n",
    "plt.plot(history.history['auc_3'])\n",
    "plt.plot(history.history['val_auc_3'])\n",
    "plt.title('model auc')\n",
    "plt.ylabel('auc')\n",
    "plt.xlabel('epoch')\n",
    "plt.legend(['train', 'val'], loc='upper left')\n",
    "plt.show()"
   ]
  },
  {
   "cell_type": "markdown",
   "metadata": {
    "id": "4adDDQWeQyGb"
   },
   "source": [
    "## Question 4 Theory Question  \n",
    "\n",
    "What is the difference between Count Vectorizer, TFIDF, Word2Vec and Glove? (5 points)\n",
    "\n",
    "TfidfVectorizer and CountVectorizer both are methods for converting text data into vectors and also used the model processes the numerical data . \n",
    "\n",
    "In CountVectorizer we count the number of times a word appears in document that results in favouring the most occured words with the correct measures taken for the document. This ends up in ignoring rare words that helps in processing of the data\n",
    "To overcome this , we use TfidfVectorizer \n",
    "\n",
    "Word2vec places the word in the feature space in a  way that the location is determined by the meaning i.e. words having similar meaning is meant to be clustered together and the distance between two words have the same meaning \n",
    "\n",
    "GloVe works to fit vectors to model a giant word co-occurrence matrix built from the corpus. \n"
   ]
  },
  {
   "cell_type": "markdown",
   "metadata": {
    "id": "cXTRkF6KRB_D"
   },
   "source": [
    "**Answer:**\n"
   ]
  },
  {
   "cell_type": "markdown",
   "metadata": {
    "id": "yQQsqcto79zE"
   },
   "source": [
    "What is the significant difference between the Niave Bayes Implementation using Bag of Words and TF-IDF? (5 points)\n",
    "\n",
    "Bag of Words just generates a set of vectors that has count of word occurrences in a particular document which can consist of review , while the TF-IDF model has the  information of more important words and the less important words too. \n",
    "\n",
    "TF means Term Frequency and IDF means Inverse Document Frequency. TF has can be compared to be same as as in BoW model. IDF  is inverse of number of document and their frequency that a particular term can appears by compensating rarity problem in BoW model\n"
   ]
  }
 ],
 "metadata": {
  "colab": {
   "collapsed_sections": [],
   "name": "CS6120_NLP_Assignment_2_Notebook",
   "provenance": []
  },
  "interpreter": {
   "hash": "17cbf1845b252c253ca0ffd028d899aa53c1d854522b9d8bffa67382b28471d0"
  },
  "kernelspec": {
   "display_name": "Python 3",
   "language": "python",
   "name": "python3"
  },
  "language_info": {
   "codemirror_mode": {
    "name": "ipython",
    "version": 3
   },
   "file_extension": ".py",
   "mimetype": "text/x-python",
   "name": "python",
   "nbconvert_exporter": "python",
   "pygments_lexer": "ipython3",
   "version": "3.8.8"
  }
 },
 "nbformat": 4,
 "nbformat_minor": 1
}
